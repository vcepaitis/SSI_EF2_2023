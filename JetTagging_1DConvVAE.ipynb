{
  "nbformat": 4,
  "nbformat_minor": 0,
  "metadata": {
    "colab": {
      "provenance": [],
      "gpuType": "A100"
    },
    "kernelspec": {
      "name": "python3",
      "display_name": "Python 3"
    },
    "language_info": {
      "name": "python"
    },
    "accelerator": "GPU"
  },
  "cells": [
    {
      "cell_type": "code",
      "execution_count": 4,
      "metadata": {
        "id": "OpLxbQfH_ALM"
      },
      "outputs": [],
      "source": [
        "import h5py\n",
        "import numpy as np\n",
        "import matplotlib.pyplot as plt\n",
        "import torch\n",
        "import torch.nn as nn\n",
        "import os\n",
        "%matplotlib inline"
      ]
    },
    {
      "cell_type": "code",
      "source": [
        "# Try to get the gpu, if available\n",
        "torch.cuda.is_available()\n",
        "device = torch.device(\"cuda:0\" if torch.cuda.is_available() else \"cpu\")\n",
        "print(f\"Using device {device}\")"
      ],
      "metadata": {
        "id": "PGUTLF5f_L-l",
        "colab": {
          "base_uri": "https://localhost:8080/"
        },
        "outputId": "765943e8-1b00-476e-f33a-a26084ef4e9c"
      },
      "execution_count": 5,
      "outputs": [
        {
          "output_type": "stream",
          "name": "stdout",
          "text": [
            "Using device cuda:0\n"
          ]
        }
      ]
    },
    {
      "cell_type": "code",
      "source": [
        "! curl https://cernbox.cern.ch/s/zZDKjltAcJW0RB7/download -o Data-MLtutorial.tar.gz\n",
        "! tar -xvzf Data-MLtutorial.tar.gz\n",
        "! ls Data-MLtutorial/JetDataset/\n",
        "! rm Data-MLtutorial.tar.gz"
      ],
      "metadata": {
        "colab": {
          "base_uri": "https://localhost:8080/"
        },
        "id": "4w1zlNy-_X7P",
        "outputId": "55951014-d165-452c-f7c3-801a9d56a2a3"
      },
      "execution_count": null,
      "outputs": [
        {
          "output_type": "stream",
          "name": "stdout",
          "text": [
            "  % Total    % Received % Xferd  Average Speed   Time    Time     Time  Current\n",
            "                                 Dload  Upload   Total   Spent    Left  Speed\n",
            "\r  0     0    0     0    0     0      0      0 --:--:-- --:--:-- --:--:--     0\r  0     0    0     0    0     0      0      0 --:--:-- --:--:-- --:--:--     0\r100    26  100    26    0     0    106      0 --:--:-- --:--:-- --:--:--   106\n",
            "\n",
            "gzip: stdin: not in gzip format\n",
            "tar: Child returned status 1\n",
            "tar: Error is not recoverable: exiting now\n",
            "ls: cannot access 'Data-MLtutorial/JetDataset/': No such file or directory\n"
          ]
        }
      ]
    },
    {
      "cell_type": "code",
      "source": [
        "##big dataset\n",
        "! curl https://zenodo.org/record/3602254/files/hls4ml_LHCjet_100p_train.tar.gz?download=1 -o hls4ml_LHCjet_100p_train.tar.gz\n",
        "! tar -xvzf hls4ml_LHCjet_100p_train.tar.gz"
      ],
      "metadata": {
        "colab": {
          "base_uri": "https://localhost:8080/"
        },
        "id": "_La6WGwci-AR",
        "outputId": "d470cbd5-ad83-4b60-9aef-fa7a01634585"
      },
      "execution_count": 3,
      "outputs": [
        {
          "output_type": "stream",
          "name": "stdout",
          "text": [
            "  % Total    % Received % Xferd  Average Speed   Time    Time     Time  Current\n",
            "                                 Dload  Upload   Total   Spent    Left  Speed\n",
            "100 2636M  100 2636M    0     0  5212k      0  0:08:37  0:08:37 --:--:-- 5230k\n",
            "train/jetImage_0_100p_0_10000.h5\n",
            "train/jetImage_0_100p_10000_20000.h5\n",
            "train/jetImage_0_100p_20000_30000.h5\n",
            "train/jetImage_0_100p_30000_40000.h5\n",
            "train/jetImage_0_100p_40000_50000.h5\n",
            "train/jetImage_0_100p_50000_60000.h5\n",
            "train/jetImage_0_100p_60000_70000.h5\n",
            "train/jetImage_0_100p_70000_80000.h5\n",
            "train/jetImage_0_100p_80000_90000.h5\n",
            "train/jetImage_1_100p_0_10000.h5\n",
            "train/jetImage_1_100p_10000_20000.h5\n",
            "train/jetImage_1_100p_20000_30000.h5\n",
            "train/jetImage_1_100p_30000_40000.h5\n",
            "train/jetImage_1_100p_40000_50000.h5\n",
            "train/jetImage_1_100p_50000_60000.h5\n",
            "train/jetImage_1_100p_60000_70000.h5\n",
            "train/jetImage_1_100p_70000_80000.h5\n",
            "train/jetImage_1_100p_80000_90000.h5\n",
            "train/jetImage_2_100p_0_10000.h5\n",
            "train/jetImage_2_100p_10000_20000.h5\n",
            "train/jetImage_2_100p_20000_30000.h5\n",
            "train/jetImage_2_100p_30000_40000.h5\n",
            "train/jetImage_2_100p_40000_50000.h5\n",
            "train/jetImage_2_100p_50000_60000.h5\n",
            "train/jetImage_2_100p_60000_70000.h5\n",
            "train/jetImage_2_100p_70000_80000.h5\n",
            "train/jetImage_2_100p_80000_90000.h5\n",
            "train/jetImage_3_100p_0_10000.h5\n",
            "train/jetImage_3_100p_10000_20000.h5\n",
            "train/jetImage_3_100p_20000_30000.h5\n",
            "train/jetImage_3_100p_30000_40000.h5\n",
            "train/jetImage_3_100p_40000_50000.h5\n",
            "train/jetImage_3_100p_50000_60000.h5\n",
            "train/jetImage_3_100p_60000_70000.h5\n",
            "train/jetImage_3_100p_70000_80000.h5\n",
            "train/jetImage_3_100p_80000_90000.h5\n",
            "train/jetImage_4_100p_0_10000.h5\n",
            "train/jetImage_4_100p_10000_20000.h5\n",
            "train/jetImage_4_100p_20000_30000.h5\n",
            "train/jetImage_4_100p_30000_40000.h5\n",
            "train/jetImage_4_100p_40000_50000.h5\n",
            "train/jetImage_4_100p_50000_60000.h5\n",
            "train/jetImage_4_100p_60000_70000.h5\n",
            "train/jetImage_4_100p_70000_80000.h5\n",
            "train/jetImage_4_100p_80000_90000.h5\n",
            "train/jetImage_5_100p_0_10000.h5\n",
            "train/jetImage_5_100p_10000_20000.h5\n",
            "train/jetImage_5_100p_20000_30000.h5\n",
            "train/jetImage_5_100p_30000_40000.h5\n",
            "train/jetImage_5_100p_40000_50000.h5\n",
            "train/jetImage_5_100p_50000_60000.h5\n",
            "train/jetImage_5_100p_60000_70000.h5\n",
            "train/jetImage_5_100p_70000_80000.h5\n",
            "train/jetImage_5_100p_80000_90000.h5\n",
            "train/jetImage_6_100p_0_10000.h5\n",
            "train/jetImage_6_100p_10000_20000.h5\n",
            "train/jetImage_6_100p_20000_30000.h5\n",
            "train/jetImage_6_100p_30000_40000.h5\n",
            "train/jetImage_6_100p_40000_50000.h5\n",
            "train/jetImage_6_100p_50000_60000.h5\n",
            "train/jetImage_6_100p_60000_70000.h5\n",
            "train/jetImage_6_100p_80000_90000.h5\n",
            "train/jetImage_7_100p_0_10000.h5\n",
            "train/jetImage_7_100p_20000_30000.h5\n"
          ]
        }
      ]
    },
    {
      "cell_type": "code",
      "source": [
        "datafiles_bigDataset = ['train/jetImage_0_100p_0_10000.h5',\n",
        "'train/jetImage_0_100p_10000_20000.h5',\n",
        "'train/jetImage_0_100p_20000_30000.h5',\n",
        "'train/jetImage_0_100p_30000_40000.h5',\n",
        "'train/jetImage_0_100p_40000_50000.h5',\n",
        "'train/jetImage_0_100p_50000_60000.h5',\n",
        "'train/jetImage_0_100p_60000_70000.h5',\n",
        "'train/jetImage_0_100p_70000_80000.h5',\n",
        "'train/jetImage_0_100p_80000_90000.h5',\n",
        "'train/jetImage_1_100p_0_10000.h5',\n",
        "'train/jetImage_1_100p_10000_20000.h5',\n",
        "'train/jetImage_1_100p_20000_30000.h5',\n",
        "'train/jetImage_1_100p_30000_40000.h5',\n",
        "'train/jetImage_1_100p_40000_50000.h5',\n",
        "'train/jetImage_1_100p_50000_60000.h5',\n",
        "'train/jetImage_1_100p_60000_70000.h5',\n",
        "'train/jetImage_1_100p_70000_80000.h5',\n",
        "'train/jetImage_1_100p_80000_90000.h5',\n",
        "'train/jetImage_2_100p_0_10000.h5',\n",
        "'train/jetImage_2_100p_10000_20000.h5',\n",
        "'train/jetImage_2_100p_20000_30000.h5',\n",
        "'train/jetImage_2_100p_30000_40000.h5',\n",
        "'train/jetImage_2_100p_40000_50000.h5',\n",
        "'train/jetImage_2_100p_50000_60000.h5',\n",
        "'train/jetImage_2_100p_60000_70000.h5',\n",
        "'train/jetImage_2_100p_70000_80000.h5',\n",
        "'train/jetImage_2_100p_80000_90000.h5',\n",
        "'train/jetImage_3_100p_0_10000.h5',\n",
        "'train/jetImage_3_100p_10000_20000.h5',\n",
        "'train/jetImage_3_100p_20000_30000.h5',\n",
        "'train/jetImage_3_100p_30000_40000.h5',\n",
        "'train/jetImage_3_100p_40000_50000.h5',\n",
        "'train/jetImage_3_100p_50000_60000.h5',\n",
        "'train/jetImage_3_100p_60000_70000.h5',\n",
        "'train/jetImage_3_100p_70000_80000.h5',\n",
        "'train/jetImage_3_100p_80000_90000.h5',\n",
        "'train/jetImage_4_100p_0_10000.h5',\n",
        "'train/jetImage_4_100p_10000_20000.h5',\n",
        "'train/jetImage_4_100p_20000_30000.h5',\n",
        "'train/jetImage_4_100p_30000_40000.h5',\n",
        "'train/jetImage_4_100p_40000_50000.h5',\n",
        "'train/jetImage_4_100p_50000_60000.h5',\n",
        "'train/jetImage_4_100p_60000_70000.h5',\n",
        "'train/jetImage_4_100p_70000_80000.h5',\n",
        "'train/jetImage_4_100p_80000_90000.h5',\n",
        "'train/jetImage_5_100p_0_10000.h5',\n",
        "'train/jetImage_5_100p_10000_20000.h5',\n",
        "'train/jetImage_5_100p_20000_30000.h5',\n",
        "'train/jetImage_5_100p_30000_40000.h5',\n",
        "'train/jetImage_5_100p_40000_50000.h5',\n",
        "'train/jetImage_5_100p_50000_60000.h5',\n",
        "'train/jetImage_5_100p_60000_70000.h5',\n",
        "'train/jetImage_5_100p_70000_80000.h5',\n",
        "'train/jetImage_5_100p_80000_90000.h5',\n",
        "'train/jetImage_6_100p_0_10000.h5',\n",
        "'train/jetImage_6_100p_10000_20000.h5',\n",
        "'train/jetImage_6_100p_20000_30000.h5',\n",
        "'train/jetImage_6_100p_30000_40000.h5',\n",
        "'train/jetImage_6_100p_40000_50000.h5',\n",
        "'train/jetImage_6_100p_50000_60000.h5',\n",
        "'train/jetImage_6_100p_60000_70000.h5',\n",
        "'train/jetImage_6_100p_80000_90000.h5',\n",
        "'train/jetImage_7_100p_0_10000.h5',\n",
        "'train/jetImage_7_100p_20000_30000.h5']"
      ],
      "metadata": {
        "id": "-IXZwxUFqHFl"
      },
      "execution_count": 6,
      "outputs": []
    },
    {
      "cell_type": "code",
      "source": [
        "inputDir = \"Data-MLtutorial/JetDataset/\"\n",
        "#inputDir = \"train/\"\n",
        "\n",
        "target = np.array([])\n",
        "jetList = np.array([])\n",
        "# we cannot load all data on Colab. So we just take a few files\n",
        "#datafiles = ['%s/jetImage_7_100p_30000_40000.h5' %inputDir,\n",
        "#          '%s/jetImage_7_100p_60000_70000.h5' %inputDir,\n",
        "#            '%s/jetImage_7_100p_50000_60000.h5' %inputDir,\n",
        "#            '%s/jetImage_7_100p_10000_20000.h5' %inputDir,\n",
        "#            '%s/jetImage_7_100p_0_10000.h5' %inputDir]\n",
        "\n",
        "datafiles = datafiles_bigDataset\n",
        "for i, fileIN in enumerate(datafiles):\n",
        "    if i > 30: continue\n",
        "    f = h5py.File(fileIN)\n",
        "    print(f.keys())\n",
        "    if i == 0: print(f.get(\"particleFeatureNames\")[:])\n",
        "    print(\"Appending %s\" %fileIN)\n",
        "    myJetList = np.array(f.get(\"jetConstituentList\"))\n",
        "    mytarget = np.array(f.get('jets')[0:,-6:-1])\n",
        "    jetList = np.concatenate([jetList, myJetList], axis=0) if jetList.size else myJetList\n",
        "    target = np.concatenate([target, mytarget], axis=0) if target.size else mytarget\n",
        "    del myJetList, mytarget\n",
        "    f.close()\n",
        "print(target.shape, jetList.shape)"
      ],
      "metadata": {
        "colab": {
          "base_uri": "https://localhost:8080/"
        },
        "id": "LqJ7fUCwAXAD",
        "outputId": "387fa024-d224-4378-8e14-992aeb11c7fa"
      },
      "execution_count": 7,
      "outputs": [
        {
          "output_type": "stream",
          "name": "stdout",
          "text": [
            "<KeysViewHDF5 ['jetConstituentList', 'jetFeatureNames', 'jetImage', 'jetImageECAL', 'jetImageHCAL', 'jets', 'particleFeatureNames']>\n",
            "[b'j1_px' b'j1_py' b'j1_pz' b'j1_e' b'j1_erel' b'j1_pt' b'j1_ptrel'\n",
            " b'j1_eta' b'j1_etarel' b'j1_etarot' b'j1_phi' b'j1_phirel' b'j1_phirot'\n",
            " b'j1_deltaR' b'j1_costheta' b'j1_costhetarel' b'j1_pdgid']\n",
            "Appending train/jetImage_0_100p_0_10000.h5\n",
            "<KeysViewHDF5 ['jetConstituentList', 'jetFeatureNames', 'jetImage', 'jetImageECAL', 'jetImageHCAL', 'jets', 'particleFeatureNames']>\n",
            "Appending train/jetImage_0_100p_10000_20000.h5\n",
            "<KeysViewHDF5 ['jetConstituentList', 'jetFeatureNames', 'jetImage', 'jetImageECAL', 'jetImageHCAL', 'jets', 'particleFeatureNames']>\n",
            "Appending train/jetImage_0_100p_20000_30000.h5\n",
            "<KeysViewHDF5 ['jetConstituentList', 'jetFeatureNames', 'jetImage', 'jetImageECAL', 'jetImageHCAL', 'jets', 'particleFeatureNames']>\n",
            "Appending train/jetImage_0_100p_30000_40000.h5\n",
            "<KeysViewHDF5 ['jetConstituentList', 'jetFeatureNames', 'jetImage', 'jetImageECAL', 'jetImageHCAL', 'jets', 'particleFeatureNames']>\n",
            "Appending train/jetImage_0_100p_40000_50000.h5\n",
            "<KeysViewHDF5 ['jetConstituentList', 'jetFeatureNames', 'jetImage', 'jetImageECAL', 'jetImageHCAL', 'jets', 'particleFeatureNames']>\n",
            "Appending train/jetImage_0_100p_50000_60000.h5\n",
            "<KeysViewHDF5 ['jetConstituentList', 'jetFeatureNames', 'jetImage', 'jetImageECAL', 'jetImageHCAL', 'jets', 'particleFeatureNames']>\n",
            "Appending train/jetImage_0_100p_60000_70000.h5\n",
            "<KeysViewHDF5 ['jetConstituentList', 'jetFeatureNames', 'jetImage', 'jetImageECAL', 'jetImageHCAL', 'jets', 'particleFeatureNames']>\n",
            "Appending train/jetImage_0_100p_70000_80000.h5\n",
            "<KeysViewHDF5 ['jetConstituentList', 'jetFeatureNames', 'jetImage', 'jetImageECAL', 'jetImageHCAL', 'jets', 'particleFeatureNames']>\n",
            "Appending train/jetImage_0_100p_80000_90000.h5\n",
            "<KeysViewHDF5 ['jetConstituentList', 'jetFeatureNames', 'jetImage', 'jetImageECAL', 'jetImageHCAL', 'jets', 'particleFeatureNames']>\n",
            "Appending train/jetImage_1_100p_0_10000.h5\n",
            "<KeysViewHDF5 ['jetConstituentList', 'jetFeatureNames', 'jetImage', 'jetImageECAL', 'jetImageHCAL', 'jets', 'particleFeatureNames']>\n",
            "Appending train/jetImage_1_100p_10000_20000.h5\n",
            "<KeysViewHDF5 ['jetConstituentList', 'jetFeatureNames', 'jetImage', 'jetImageECAL', 'jetImageHCAL', 'jets', 'particleFeatureNames']>\n",
            "Appending train/jetImage_1_100p_20000_30000.h5\n",
            "<KeysViewHDF5 ['jetConstituentList', 'jetFeatureNames', 'jetImage', 'jetImageECAL', 'jetImageHCAL', 'jets', 'particleFeatureNames']>\n",
            "Appending train/jetImage_1_100p_30000_40000.h5\n",
            "<KeysViewHDF5 ['jetConstituentList', 'jetFeatureNames', 'jetImage', 'jetImageECAL', 'jetImageHCAL', 'jets', 'particleFeatureNames']>\n",
            "Appending train/jetImage_1_100p_40000_50000.h5\n",
            "<KeysViewHDF5 ['jetConstituentList', 'jetFeatureNames', 'jetImage', 'jetImageECAL', 'jetImageHCAL', 'jets', 'particleFeatureNames']>\n",
            "Appending train/jetImage_1_100p_50000_60000.h5\n",
            "<KeysViewHDF5 ['jetConstituentList', 'jetFeatureNames', 'jetImage', 'jetImageECAL', 'jetImageHCAL', 'jets', 'particleFeatureNames']>\n",
            "Appending train/jetImage_1_100p_60000_70000.h5\n",
            "<KeysViewHDF5 ['jetConstituentList', 'jetFeatureNames', 'jetImage', 'jetImageECAL', 'jetImageHCAL', 'jets', 'particleFeatureNames']>\n",
            "Appending train/jetImage_1_100p_70000_80000.h5\n",
            "<KeysViewHDF5 ['jetConstituentList', 'jetFeatureNames', 'jetImage', 'jetImageECAL', 'jetImageHCAL', 'jets', 'particleFeatureNames']>\n",
            "Appending train/jetImage_1_100p_80000_90000.h5\n",
            "<KeysViewHDF5 ['jetConstituentList', 'jetFeatureNames', 'jetImage', 'jetImageECAL', 'jetImageHCAL', 'jets', 'particleFeatureNames']>\n",
            "Appending train/jetImage_2_100p_0_10000.h5\n",
            "<KeysViewHDF5 ['jetConstituentList', 'jetFeatureNames', 'jetImage', 'jetImageECAL', 'jetImageHCAL', 'jets', 'particleFeatureNames']>\n",
            "Appending train/jetImage_2_100p_10000_20000.h5\n",
            "<KeysViewHDF5 ['jetConstituentList', 'jetFeatureNames', 'jetImage', 'jetImageECAL', 'jetImageHCAL', 'jets', 'particleFeatureNames']>\n",
            "Appending train/jetImage_2_100p_20000_30000.h5\n",
            "<KeysViewHDF5 ['jetConstituentList', 'jetFeatureNames', 'jetImage', 'jetImageECAL', 'jetImageHCAL', 'jets', 'particleFeatureNames']>\n",
            "Appending train/jetImage_2_100p_30000_40000.h5\n",
            "<KeysViewHDF5 ['jetConstituentList', 'jetFeatureNames', 'jetImage', 'jetImageECAL', 'jetImageHCAL', 'jets', 'particleFeatureNames']>\n",
            "Appending train/jetImage_2_100p_40000_50000.h5\n",
            "<KeysViewHDF5 ['jetConstituentList', 'jetFeatureNames', 'jetImage', 'jetImageECAL', 'jetImageHCAL', 'jets', 'particleFeatureNames']>\n",
            "Appending train/jetImage_2_100p_50000_60000.h5\n",
            "<KeysViewHDF5 ['jetConstituentList', 'jetFeatureNames', 'jetImage', 'jetImageECAL', 'jetImageHCAL', 'jets', 'particleFeatureNames']>\n",
            "Appending train/jetImage_2_100p_60000_70000.h5\n",
            "<KeysViewHDF5 ['jetConstituentList', 'jetFeatureNames', 'jetImage', 'jetImageECAL', 'jetImageHCAL', 'jets', 'particleFeatureNames']>\n",
            "Appending train/jetImage_2_100p_70000_80000.h5\n",
            "<KeysViewHDF5 ['jetConstituentList', 'jetFeatureNames', 'jetImage', 'jetImageECAL', 'jetImageHCAL', 'jets', 'particleFeatureNames']>\n",
            "Appending train/jetImage_2_100p_80000_90000.h5\n",
            "<KeysViewHDF5 ['jetConstituentList', 'jetFeatureNames', 'jetImage', 'jetImageECAL', 'jetImageHCAL', 'jets', 'particleFeatureNames']>\n",
            "Appending train/jetImage_3_100p_0_10000.h5\n",
            "<KeysViewHDF5 ['jetConstituentList', 'jetFeatureNames', 'jetImage', 'jetImageECAL', 'jetImageHCAL', 'jets', 'particleFeatureNames']>\n",
            "Appending train/jetImage_3_100p_10000_20000.h5\n",
            "<KeysViewHDF5 ['jetConstituentList', 'jetFeatureNames', 'jetImage', 'jetImageECAL', 'jetImageHCAL', 'jets', 'particleFeatureNames']>\n",
            "Appending train/jetImage_3_100p_20000_30000.h5\n",
            "<KeysViewHDF5 ['jetConstituentList', 'jetFeatureNames', 'jetImage', 'jetImageECAL', 'jetImageHCAL', 'jets', 'particleFeatureNames']>\n",
            "Appending train/jetImage_3_100p_30000_40000.h5\n",
            "(310000, 5) (310000, 100, 16)\n"
          ]
        }
      ]
    },
    {
      "cell_type": "code",
      "source": [],
      "metadata": {
        "id": "BBN_TTr_lyqD"
      },
      "execution_count": null,
      "outputs": []
    },
    {
      "cell_type": "code",
      "source": [
        "# we standardize the data, so that the mean is = 0 and rms = 1\n",
        "from sklearn.preprocessing import StandardScaler\n",
        "print(np.mean(jetList[:,:,10]), np.var(jetList[:,:,10]))\n",
        "\n",
        "scalers = {}\n",
        "for i in range(jetList.shape[2]):\n",
        "    scalers[i] = StandardScaler()\n",
        "    scalers[i].fit(jetList[:,:,i])\n",
        "    jetList[:,:,i] = scalers[i].transform(jetList[:,:,i])\n",
        "\n",
        "#scaler = StandardScaler()\n",
        "#scaler.fit(jetList)\n",
        "#features = scaler.transform(jetList)\n",
        "print(np.mean(jetList[:,:,10]), np.var(jetList[:,:,10]))"
      ],
      "metadata": {
        "colab": {
          "base_uri": "https://localhost:8080/"
        },
        "id": "QkVDctrNkm4H",
        "outputId": "83aeab07-e084-4b59-e641-4372a1804d6e"
      },
      "execution_count": 8,
      "outputs": [
        {
          "output_type": "stream",
          "name": "stdout",
          "text": [
            "-0.0024198376577618066 1.6172001962334621\n",
            "1.815322086199998e-19 0.9999999999994045\n"
          ]
        }
      ]
    },
    {
      "cell_type": "code",
      "source": [
        "jetList_standard = jetList[np.argmax(target,axis=1)<2]\n",
        "jetList_W = jetList[np.argmax(target,axis=1)==2]\n",
        "jetList_Z = jetList[np.argmax(target,axis=1)==3]\n",
        "jetList_t = jetList[np.argmax(target,axis=1)==4]\n",
        "print(jetList_standard.shape, jetList_W.shape, jetList_Z.shape, jetList_t.shape)"
      ],
      "metadata": {
        "colab": {
          "base_uri": "https://localhost:8080/"
        },
        "id": "M8I7ON0CCMSY",
        "outputId": "b35283ef-55df-4ccd-f33d-5d4e812a7a4d"
      },
      "execution_count": 9,
      "outputs": [
        {
          "output_type": "stream",
          "name": "stdout",
          "text": [
            "(122541, 100, 16) (62481, 100, 16) (62223, 100, 16) (62755, 100, 16)\n"
          ]
        }
      ]
    },
    {
      "cell_type": "code",
      "source": [
        "label_standard = target[np.argmax(target,axis=1)<2]\n",
        "print(label_standard)"
      ],
      "metadata": {
        "colab": {
          "base_uri": "https://localhost:8080/"
        },
        "id": "NXwZgjcGHMrc",
        "outputId": "d9466f23-1f90-416d-f420-9c34fd9b1f93"
      },
      "execution_count": 10,
      "outputs": [
        {
          "output_type": "stream",
          "name": "stdout",
          "text": [
            "[[1. 0. 0. 0. 0.]\n",
            " [1. 0. 0. 0. 0.]\n",
            " [1. 0. 0. 0. 0.]\n",
            " ...\n",
            " [0. 1. 0. 0. 0.]\n",
            " [0. 1. 0. 0. 0.]\n",
            " [1. 0. 0. 0. 0.]]\n"
          ]
        }
      ]
    },
    {
      "cell_type": "code",
      "source": [
        "from sklearn.model_selection import train_test_split\n",
        "\n",
        "#split into training and test\n",
        "X_learn, X_test, label_learn, label_test = train_test_split(jetList_standard, label_standard, test_size=0.2)\n",
        "print(X_learn.shape, label_learn.shape, X_test.shape, label_test.shape)\n",
        "\n",
        "#split the training dataset into training and validation\n",
        "X_train, X_val, label_train, label_val = train_test_split(X_learn, label_learn, test_size=0.2)\n",
        "print(X_train.shape, label_train.shape, X_val.shape,  label_val.shape, X_test.shape, label_test.shape)\n",
        "\n",
        "del jetList_standard, label_standard, jetList, X_learn, label_learn"
      ],
      "metadata": {
        "colab": {
          "base_uri": "https://localhost:8080/"
        },
        "id": "4RLyCuxFHP8E",
        "outputId": "eeaab7df-1e1a-4e51-eb2f-6bd08aaf9292"
      },
      "execution_count": 11,
      "outputs": [
        {
          "output_type": "stream",
          "name": "stdout",
          "text": [
            "(98032, 100, 16) (98032, 5) (24509, 100, 16) (24509, 5)\n",
            "(78425, 100, 16) (78425, 5) (19607, 100, 16) (19607, 5) (24509, 100, 16) (24509, 5)\n"
          ]
        }
      ]
    },
    {
      "cell_type": "code",
      "source": [
        "# keras imports\n",
        "from tensorflow.keras.models import Model\n",
        "from tensorflow.keras.layers import BatchNormalization, Activation, Lambda, Layer, Reshape, UpSampling1D, Masking\n",
        "from tensorflow.keras.layers import Dense, Input, Conv1D, Conv1DTranspose, AveragePooling1D, MaxPooling1D, Dropout, Flatten\n",
        "from tensorflow.keras.utils import plot_model\n",
        "from tensorflow.keras.optimizers import Adam\n",
        "from tensorflow.keras import backend as K\n",
        "from tensorflow.keras import metrics\n",
        "from tensorflow.keras.callbacks import EarlyStopping, ReduceLROnPlateau, TerminateOnNaN"
      ],
      "metadata": {
        "id": "reTx1vRyAuFx"
      },
      "execution_count": 12,
      "outputs": []
    },
    {
      "cell_type": "code",
      "source": [
        "def sample_z(args):\n",
        "    z_mean, z_log_var = args\n",
        "    print(z_mean, z_log_var)\n",
        "    batch = K.shape(z_mean)[0]\n",
        "    dim = K.int_shape(z_mean)[1]\n",
        "    eps = K.random_normal(shape=(batch, dim))\n",
        "    return z_mean + K.exp(z_log_var / 2) * eps"
      ],
      "metadata": {
        "id": "bB__qPxdQ1RN"
      },
      "execution_count": 13,
      "outputs": []
    },
    {
      "cell_type": "code",
      "source": [
        "from tensorflow.nn import softmax\n",
        "def sample_dirichlet(args):\n",
        "  sample = sample_z(args)\n",
        "  return softmax(sample)"
      ],
      "metadata": {
        "id": "11d9KaIMpGzT"
      },
      "execution_count": null,
      "outputs": []
    },
    {
      "cell_type": "code",
      "source": [],
      "metadata": {
        "id": "uAYqr6oWahLA"
      },
      "execution_count": null,
      "outputs": []
    },
    {
      "cell_type": "code",
      "source": [],
      "metadata": {
        "id": "hEA_rYF2dIfL"
      },
      "execution_count": null,
      "outputs": []
    },
    {
      "cell_type": "code",
      "source": [
        "from tensorflow.keras import backend as K\n",
        "\n",
        "# Define loss\n",
        "def myloss(y_true, y_pred):\n",
        "    # mse\n",
        "    sum_sq = (y_true-y_pred)*(y_true-y_pred)\n",
        "    return K.sum(sum_sq, axis=-1)\n",
        "\n",
        "class KLDivergenceLayer(Layer):\n",
        "\n",
        "    \"\"\" Identity transform layer that adds KL divergence\n",
        "    to the final model loss.\n",
        "    \"\"\"\n",
        "\n",
        "    def __init__(self, *args, **kwargs):\n",
        "        self.is_placeholder = True\n",
        "        super(KLDivergenceLayer, self).__init__(*args, **kwargs)\n",
        "\n",
        "    def call(self, inputs):\n",
        "        mu, log_var = inputs\n",
        "        kl_batch = - .5 * K.sum(1 + log_var -\n",
        "                                K.square(mu) -\n",
        "                                K.exp(log_var), axis=-1)\n",
        "        self.add_loss(K.mean(kl_batch), inputs=inputs)\n",
        "        return inputs"
      ],
      "metadata": {
        "id": "9FcRaK-3Q1bf"
      },
      "execution_count": 14,
      "outputs": []
    },
    {
      "cell_type": "code",
      "source": [
        "featureArrayLength = (X_train.shape[1], X_train.shape[2])\n",
        "print(featureArrayLength)\n",
        "dropoutRate = 0.25"
      ],
      "metadata": {
        "colab": {
          "base_uri": "https://localhost:8080/"
        },
        "id": "-TV0L5TnDRqK",
        "outputId": "6229bcd6-30f0-4f18-bd9b-eafdcf3a567a"
      },
      "execution_count": 15,
      "outputs": [
        {
          "output_type": "stream",
          "name": "stdout",
          "text": [
            "(100, 16)\n"
          ]
        }
      ]
    },
    {
      "cell_type": "code",
      "source": [
        "#####Building the model\n",
        "def Conv1D_vae(input_dim, latent_dim):\n",
        "\n",
        "  ### 1D Conv Encoder\n",
        "  input_encoder = Input(shape=(input_dim), name='encoder_input')\n",
        "  x = Masking(mask_value=0.0)(input_encoder)\n",
        "  x = Conv1D(16, kernel_size=3, data_format=\"channels_last\", strides=2, padding=\"valid\", activation='elu')(x)\n",
        "  #x = MaxPooling1D(pool_size=3)(x)\n",
        "  #\n",
        "  x = Conv1D(32, kernel_size=3, data_format=\"channels_last\", strides=2, padding=\"valid\", activation='elu')(x)\n",
        "  #x = MaxPooling1D(pool_size=3)(x)\n",
        "  #\n",
        "  x = Conv1D(64, kernel_size=3, data_format=\"channels_last\", strides=2, padding=\"valid\", activation='elu')(x)\n",
        "  #x = MaxPooling1D(pool_size=9)(x)\n",
        "  #\n",
        "  x = Flatten()(x)\n",
        "  x = Dense(20, activation='elu')(x)\n",
        "  #x = Dropout(dropoutRate)(x)\n",
        "  #x = Dense(10, activation='relu')(x)\n",
        "\n",
        "  z_mu = Dense(latent_dim, name='latent_mu')(x)\n",
        "  z_log_var = Dense(latent_dim, name='latent_logvar')(x)\n",
        "  z_mu, z_log_var = KLDivergenceLayer()([z_mu, z_log_var])\n",
        "\n",
        "  #gaussian latent space\n",
        "  z = Lambda(sample_z, output_shape=(latent_dim, ), name='z')([z_mu, z_log_var])\n",
        "  #dirichlet latent space: softmax(gaussian)\n",
        "  #z = Lambda(sample_dirichlet, output_shape=(latent_dim, ), name='z')([z_mu, z_log_var])\n",
        "  encoder = Model(inputs=input_encoder, outputs=[z_mu, z_log_var, z], name='encoder')\n",
        "  encoder.summary()\n",
        "\n",
        "  #decoder\n",
        "  input_decoder = Input(shape=(latent_dim,), name='decoder_input')\n",
        "  #x = Dense(10, activation='relu')(input_decoder)\n",
        "  x = Dense(20, activation='elu')(input_decoder)\n",
        "  x = Dense(12*64, activation='elu')(x)\n",
        "  x = Reshape(target_shape=(12,64))(x)\n",
        "  #x = UpSampling1D(9)(x)\n",
        "  x = Conv1DTranspose(32, kernel_size=3, data_format=\"channels_last\", strides=2, padding=\"valid\", activation='elu')(x)\n",
        "  #x = UpSampling1D(3)(x)\n",
        "  x = Conv1DTranspose(16, kernel_size=2, data_format=\"channels_last\", strides=2, padding=\"valid\", activation='elu')(x)\n",
        "  #x = UpSampling1D(3)(x)\n",
        "  x = Conv1DTranspose(16, kernel_size=2, data_format=\"channels_last\", strides=2, padding=\"valid\", activation='elu')(x)\n",
        "  #x = Conv1DTranspose(16, kernel_size=3, data_format=\"channels_last\", strides=1, padding=\"valid\", activation='relu')(x)\n",
        "  decoder = Model(inputs=input_decoder, outputs=x, name='decoder')\n",
        "  decoder.summary()\n",
        "\n",
        "\n",
        "  #vae\n",
        "  vae_outputs = decoder(encoder(input_encoder)[2])\n",
        "  vae = Model(input_encoder, vae_outputs, name='vae')\n",
        "  vae.summary()\n",
        "\n",
        "  return vae, encoder\n"
      ],
      "metadata": {
        "id": "VRPofeHwCH2o"
      },
      "execution_count": 16,
      "outputs": []
    },
    {
      "cell_type": "code",
      "source": [
        "def Conv1D_ae(input_dim, latent_dim):\n",
        "\n",
        "  ### 1D Conv Encoder\n",
        "  input_encoder = Input(shape=(input_dim), name='encoder_input')\n",
        "  x = Masking(mask_value=0.0)(input_encoder)\n",
        "  x = Conv1D(16, kernel_size=3, data_format=\"channels_last\", strides=1, padding=\"valid\", activation='relu')(x)\n",
        "  x = AveragePooling1D(pool_size=3)(x)\n",
        "  #\n",
        "  x = Conv1D(32, kernel_size=3, data_format=\"channels_last\", strides=1, padding=\"valid\", activation='relu')(x)\n",
        "  x = AveragePooling1D(pool_size=3)(x)\n",
        "  #\n",
        "  x = Conv1D(64, kernel_size=2, data_format=\"channels_last\", strides=1, padding=\"valid\", activation='relu')(x)\n",
        "  x = AveragePooling1D(pool_size=9)(x)\n",
        "  #\n",
        "  x = Flatten()(x)\n",
        "  x = Dense(20, activation='relu')(x)\n",
        "  #x = Dropout(dropoutRate)(x)\n",
        "  x = Dense(latent_dim, activation='relu')(x)\n",
        "  encoder = Model(inputs=input_encoder, outputs=[x], name='encoder')\n",
        "  encoder.summary()\n",
        "\n",
        "  #decoder\n",
        "  input_decoder = Input(shape=(latent_dim,), name='decoder_input')\n",
        "  x = Dense(20, activation='relu')(input_decoder)\n",
        "  x = Dense(64, activation='relu')(x)\n",
        "  x = Reshape(target_shape=(12,64))(x)\n",
        "  x = UpSampling1D(9)(x)\n",
        "  x = Conv1DTranspose(32, kernel_size=2, data_format=\"channels_last\", strides=1, padding=\"valid\", activation='relu')(x)\n",
        "  x = UpSampling1D(3)(x)\n",
        "  x = Conv1DTranspose(16, kernel_size=3, data_format=\"channels_last\", strides=1, padding=\"valid\", activation='relu')(x)\n",
        "  x = UpSampling1D(3)(x)\n",
        "  x = Conv1DTranspose(16, kernel_size=3, data_format=\"channels_last\", strides=1, padding=\"valid\", activation='relu')(x)\n",
        "  x = Conv1DTranspose(16, kernel_size=3, data_format=\"channels_last\", strides=1, padding=\"valid\", activation='relu')(x)\n",
        "  decoder = Model(inputs=input_decoder, outputs=[x], name='decoder')\n",
        "  decoder.summary()\n",
        "\n",
        "  #vae\n",
        "  ae_outputs = decoder(encoder(input_encoder))\n",
        "  ae = Model(input_encoder, ae_outputs, name='ae')\n",
        "  ae.summary()\n",
        "\n",
        "  return ae, encoder\n"
      ],
      "metadata": {
        "id": "5uLBlwTSxp1Z"
      },
      "execution_count": null,
      "outputs": []
    },
    {
      "cell_type": "code",
      "source": [
        "#vae\n",
        "model, encoder = Conv1D_vae(featureArrayLength, 10)\n",
        "#ae\n",
        "#model, encoder = Conv1D_ae(featureArrayLength, 10)"
      ],
      "metadata": {
        "colab": {
          "base_uri": "https://localhost:8080/"
        },
        "id": "RJpzT191RvL9",
        "outputId": "ec367813-eb59-48a1-83dc-2d4ce921921f"
      },
      "execution_count": 17,
      "outputs": [
        {
          "output_type": "stream",
          "name": "stdout",
          "text": [
            "Tensor(\"Placeholder:0\", shape=(None, 10), dtype=float32) Tensor(\"Placeholder_1:0\", shape=(None, 10), dtype=float32)\n",
            "Model: \"encoder\"\n",
            "__________________________________________________________________________________________________\n",
            " Layer (type)                   Output Shape         Param #     Connected to                     \n",
            "==================================================================================================\n",
            " encoder_input (InputLayer)     [(None, 100, 16)]    0           []                               \n",
            "                                                                                                  \n",
            " masking (Masking)              (None, 100, 16)      0           ['encoder_input[0][0]']          \n",
            "                                                                                                  \n",
            " conv1d (Conv1D)                (None, 49, 16)       784         ['masking[0][0]']                \n",
            "                                                                                                  \n",
            " conv1d_1 (Conv1D)              (None, 24, 32)       1568        ['conv1d[0][0]']                 \n",
            "                                                                                                  \n",
            " conv1d_2 (Conv1D)              (None, 11, 64)       6208        ['conv1d_1[0][0]']               \n",
            "                                                                                                  \n",
            " flatten (Flatten)              (None, 704)          0           ['conv1d_2[0][0]']               \n",
            "                                                                                                  \n",
            " dense (Dense)                  (None, 20)           14100       ['flatten[0][0]']                \n",
            "                                                                                                  \n",
            " latent_mu (Dense)              (None, 10)           210         ['dense[0][0]']                  \n",
            "                                                                                                  \n",
            " latent_logvar (Dense)          (None, 10)           210         ['dense[0][0]']                  \n",
            "                                                                                                  \n",
            " kl_divergence_layer (KLDiverge  [(None, 10),        0           ['latent_mu[0][0]',              \n",
            " nceLayer)                       (None, 10)]                      'latent_logvar[0][0]']          \n",
            "                                                                                                  \n",
            " z (Lambda)                     (None, 10)           0           ['kl_divergence_layer[0][0]',    \n",
            "                                                                  'kl_divergence_layer[0][1]']    \n",
            "                                                                                                  \n",
            "==================================================================================================\n",
            "Total params: 23,080\n",
            "Trainable params: 23,080\n",
            "Non-trainable params: 0\n",
            "__________________________________________________________________________________________________\n",
            "Model: \"decoder\"\n",
            "_________________________________________________________________\n",
            " Layer (type)                Output Shape              Param #   \n",
            "=================================================================\n",
            " decoder_input (InputLayer)  [(None, 10)]              0         \n",
            "                                                                 \n",
            " dense_1 (Dense)             (None, 20)                220       \n",
            "                                                                 \n",
            " dense_2 (Dense)             (None, 768)               16128     \n",
            "                                                                 \n",
            " reshape (Reshape)           (None, 12, 64)            0         \n",
            "                                                                 \n",
            " conv1d_transpose (Conv1DTra  (None, 25, 32)           6176      \n",
            " nspose)                                                         \n",
            "                                                                 \n",
            " conv1d_transpose_1 (Conv1DT  (None, 50, 16)           1040      \n",
            " ranspose)                                                       \n",
            "                                                                 \n",
            " conv1d_transpose_2 (Conv1DT  (None, 100, 16)          528       \n",
            " ranspose)                                                       \n",
            "                                                                 \n",
            "=================================================================\n",
            "Total params: 24,092\n",
            "Trainable params: 24,092\n",
            "Non-trainable params: 0\n",
            "_________________________________________________________________\n",
            "Tensor(\"encoder/latent_mu/BiasAdd:0\", shape=(None, 10), dtype=float32) Tensor(\"encoder/latent_logvar/BiasAdd:0\", shape=(None, 10), dtype=float32)\n",
            "Model: \"vae\"\n",
            "_________________________________________________________________\n",
            " Layer (type)                Output Shape              Param #   \n",
            "=================================================================\n",
            " encoder_input (InputLayer)  [(None, 100, 16)]         0         \n",
            "                                                                 \n",
            " encoder (Functional)        [(None, 10),              23080     \n",
            "                              (None, 10),                        \n",
            "                              (None, 10)]                        \n",
            "                                                                 \n",
            " decoder (Functional)        (None, 100, 16)           24092     \n",
            "                                                                 \n",
            "=================================================================\n",
            "Total params: 47,172\n",
            "Trainable params: 47,172\n",
            "Non-trainable params: 0\n",
            "_________________________________________________________________\n"
          ]
        }
      ]
    },
    {
      "cell_type": "code",
      "source": [
        "model.compile(optimizer='adam', loss=myloss)"
      ],
      "metadata": {
        "id": "6qcRuQdddWjM"
      },
      "execution_count": 18,
      "outputs": []
    },
    {
      "cell_type": "code",
      "source": [
        "n_epochs = 100\n",
        "batch_size = 128\n",
        "# train\n",
        "history = model.fit(X_train, X_train, epochs=n_epochs, batch_size=batch_size, verbose = 2,\n",
        "                validation_data=(X_val, X_val),\n",
        "                callbacks = [\n",
        "                EarlyStopping(monitor='val_loss', patience=10, verbose=1),\n",
        "                ReduceLROnPlateau(monitor='val_loss', factor=0.01, patience=5, verbose=1),\n",
        "                TerminateOnNaN()])"
      ],
      "metadata": {
        "colab": {
          "base_uri": "https://localhost:8080/"
        },
        "id": "s_ndFcYKdl4I",
        "outputId": "a2b5725c-5405-4ec7-9fdc-3cf5e79053bd"
      },
      "execution_count": 19,
      "outputs": [
        {
          "output_type": "stream",
          "name": "stdout",
          "text": [
            "Epoch 1/100\n",
            "Tensor(\"vae/encoder/latent_mu/BiasAdd:0\", shape=(None, 10), dtype=float32) Tensor(\"vae/encoder/latent_logvar/BiasAdd:0\", shape=(None, 10), dtype=float32)\n",
            "Tensor(\"vae/encoder/latent_mu/BiasAdd:0\", shape=(None, 10), dtype=float32) Tensor(\"vae/encoder/latent_logvar/BiasAdd:0\", shape=(None, 10), dtype=float32)\n",
            "Tensor(\"vae/encoder/latent_mu/BiasAdd:0\", shape=(None, 10), dtype=float32) Tensor(\"vae/encoder/latent_logvar/BiasAdd:0\", shape=(None, 10), dtype=float32)\n",
            "613/613 - 23s - loss: 17.7165 - val_loss: 17.1767 - lr: 0.0010 - 23s/epoch - 38ms/step\n",
            "Epoch 2/100\n",
            "613/613 - 6s - loss: 16.9553 - val_loss: 17.0302 - lr: 0.0010 - 6s/epoch - 10ms/step\n",
            "Epoch 3/100\n",
            "613/613 - 5s - loss: 16.9143 - val_loss: 17.0012 - lr: 0.0010 - 5s/epoch - 9ms/step\n",
            "Epoch 4/100\n",
            "613/613 - 6s - loss: 16.8897 - val_loss: 16.9986 - lr: 0.0010 - 6s/epoch - 10ms/step\n",
            "Epoch 5/100\n",
            "613/613 - 5s - loss: 16.8751 - val_loss: 16.9923 - lr: 0.0010 - 5s/epoch - 8ms/step\n",
            "Epoch 6/100\n",
            "613/613 - 5s - loss: 16.8722 - val_loss: 17.0267 - lr: 0.0010 - 5s/epoch - 9ms/step\n",
            "Epoch 7/100\n",
            "613/613 - 5s - loss: 16.8619 - val_loss: 16.9776 - lr: 0.0010 - 5s/epoch - 9ms/step\n",
            "Epoch 8/100\n",
            "613/613 - 5s - loss: 16.8621 - val_loss: 16.9839 - lr: 0.0010 - 5s/epoch - 8ms/step\n",
            "Epoch 9/100\n",
            "613/613 - 6s - loss: 16.8573 - val_loss: 16.9975 - lr: 0.0010 - 6s/epoch - 9ms/step\n",
            "Epoch 10/100\n",
            "613/613 - 5s - loss: 16.8543 - val_loss: 17.0185 - lr: 0.0010 - 5s/epoch - 8ms/step\n",
            "Epoch 11/100\n",
            "613/613 - 6s - loss: 16.8502 - val_loss: 16.9703 - lr: 0.0010 - 6s/epoch - 10ms/step\n",
            "Epoch 12/100\n",
            "613/613 - 5s - loss: 16.8577 - val_loss: 17.0219 - lr: 0.0010 - 5s/epoch - 8ms/step\n",
            "Epoch 13/100\n",
            "613/613 - 6s - loss: 16.8542 - val_loss: 16.9826 - lr: 0.0010 - 6s/epoch - 10ms/step\n",
            "Epoch 14/100\n",
            "613/613 - 5s - loss: 16.8481 - val_loss: 16.9766 - lr: 0.0010 - 5s/epoch - 8ms/step\n",
            "Epoch 15/100\n",
            "613/613 - 5s - loss: 16.8450 - val_loss: 16.9689 - lr: 0.0010 - 5s/epoch - 9ms/step\n",
            "Epoch 16/100\n",
            "613/613 - 5s - loss: 16.8501 - val_loss: 16.9801 - lr: 0.0010 - 5s/epoch - 9ms/step\n",
            "Epoch 17/100\n",
            "613/613 - 5s - loss: 16.8188 - val_loss: 16.3520 - lr: 0.0010 - 5s/epoch - 8ms/step\n",
            "Epoch 18/100\n",
            "613/613 - 6s - loss: 15.4861 - val_loss: 15.3246 - lr: 0.0010 - 6s/epoch - 10ms/step\n",
            "Epoch 19/100\n",
            "613/613 - 5s - loss: 15.2846 - val_loss: 15.3360 - lr: 0.0010 - 5s/epoch - 8ms/step\n",
            "Epoch 20/100\n",
            "613/613 - 6s - loss: 15.1163 - val_loss: 14.8792 - lr: 0.0010 - 6s/epoch - 9ms/step\n",
            "Epoch 21/100\n",
            "613/613 - 5s - loss: 14.7152 - val_loss: 14.6451 - lr: 0.0010 - 5s/epoch - 8ms/step\n",
            "Epoch 22/100\n",
            "613/613 - 6s - loss: 14.5306 - val_loss: 14.5071 - lr: 0.0010 - 6s/epoch - 9ms/step\n",
            "Epoch 23/100\n",
            "613/613 - 5s - loss: 14.4386 - val_loss: 14.5087 - lr: 0.0010 - 5s/epoch - 9ms/step\n",
            "Epoch 24/100\n",
            "613/613 - 5s - loss: 14.3625 - val_loss: 14.3688 - lr: 0.0010 - 5s/epoch - 8ms/step\n",
            "Epoch 25/100\n",
            "613/613 - 6s - loss: 14.2927 - val_loss: 14.2904 - lr: 0.0010 - 6s/epoch - 10ms/step\n",
            "Epoch 26/100\n",
            "613/613 - 5s - loss: 14.2695 - val_loss: 14.1983 - lr: 0.0010 - 5s/epoch - 9ms/step\n",
            "Epoch 27/100\n",
            "613/613 - 6s - loss: 14.1804 - val_loss: 14.1185 - lr: 0.0010 - 6s/epoch - 9ms/step\n",
            "Epoch 28/100\n",
            "613/613 - 5s - loss: 14.1405 - val_loss: 14.1718 - lr: 0.0010 - 5s/epoch - 8ms/step\n",
            "Epoch 29/100\n",
            "613/613 - 6s - loss: 14.1017 - val_loss: 14.0804 - lr: 0.0010 - 6s/epoch - 10ms/step\n",
            "Epoch 30/100\n",
            "613/613 - 6s - loss: 14.0712 - val_loss: 14.0910 - lr: 0.0010 - 6s/epoch - 9ms/step\n",
            "Epoch 31/100\n",
            "613/613 - 7s - loss: 14.0709 - val_loss: 14.1280 - lr: 0.0010 - 7s/epoch - 11ms/step\n",
            "Epoch 32/100\n",
            "613/613 - 5s - loss: 14.0943 - val_loss: 14.2980 - lr: 0.0010 - 5s/epoch - 8ms/step\n",
            "Epoch 33/100\n",
            "613/613 - 5s - loss: 14.1136 - val_loss: 14.1205 - lr: 0.0010 - 5s/epoch - 8ms/step\n",
            "Epoch 34/100\n",
            "613/613 - 6s - loss: 14.0543 - val_loss: 14.0488 - lr: 0.0010 - 6s/epoch - 9ms/step\n",
            "Epoch 35/100\n",
            "613/613 - 5s - loss: 14.0399 - val_loss: 14.0653 - lr: 0.0010 - 5s/epoch - 9ms/step\n",
            "Epoch 36/100\n",
            "613/613 - 6s - loss: 14.0329 - val_loss: 14.1743 - lr: 0.0010 - 6s/epoch - 10ms/step\n",
            "Epoch 37/100\n",
            "613/613 - 5s - loss: 14.0309 - val_loss: 14.3059 - lr: 0.0010 - 5s/epoch - 8ms/step\n",
            "Epoch 38/100\n",
            "613/613 - 6s - loss: 14.0514 - val_loss: 14.0653 - lr: 0.0010 - 6s/epoch - 10ms/step\n",
            "Epoch 39/100\n",
            "613/613 - 5s - loss: 14.0405 - val_loss: 14.0412 - lr: 0.0010 - 5s/epoch - 8ms/step\n",
            "Epoch 40/100\n",
            "613/613 - 5s - loss: 13.9933 - val_loss: 14.0375 - lr: 0.0010 - 5s/epoch - 8ms/step\n",
            "Epoch 41/100\n",
            "613/613 - 6s - loss: 13.9959 - val_loss: 13.9598 - lr: 0.0010 - 6s/epoch - 9ms/step\n",
            "Epoch 42/100\n",
            "613/613 - 5s - loss: 13.9985 - val_loss: 14.1223 - lr: 0.0010 - 5s/epoch - 8ms/step\n",
            "Epoch 43/100\n",
            "613/613 - 6s - loss: 14.0502 - val_loss: 14.1175 - lr: 0.0010 - 6s/epoch - 9ms/step\n",
            "Epoch 44/100\n",
            "613/613 - 5s - loss: 14.0282 - val_loss: 14.0346 - lr: 0.0010 - 5s/epoch - 8ms/step\n",
            "Epoch 45/100\n",
            "613/613 - 6s - loss: 13.9876 - val_loss: 14.1696 - lr: 0.0010 - 6s/epoch - 9ms/step\n",
            "Epoch 46/100\n",
            "\n",
            "Epoch 46: ReduceLROnPlateau reducing learning rate to 1.0000000474974514e-05.\n",
            "613/613 - 5s - loss: 13.9667 - val_loss: 13.9674 - lr: 0.0010 - 5s/epoch - 8ms/step\n",
            "Epoch 47/100\n",
            "613/613 - 6s - loss: 13.8879 - val_loss: 13.9105 - lr: 1.0000e-05 - 6s/epoch - 9ms/step\n",
            "Epoch 48/100\n",
            "613/613 - 5s - loss: 13.8642 - val_loss: 13.8822 - lr: 1.0000e-05 - 5s/epoch - 9ms/step\n",
            "Epoch 49/100\n",
            "613/613 - 5s - loss: 13.8606 - val_loss: 13.8698 - lr: 1.0000e-05 - 5s/epoch - 8ms/step\n",
            "Epoch 50/100\n",
            "613/613 - 6s - loss: 13.8571 - val_loss: 13.8823 - lr: 1.0000e-05 - 6s/epoch - 9ms/step\n",
            "Epoch 51/100\n",
            "613/613 - 5s - loss: 13.8632 - val_loss: 13.8917 - lr: 1.0000e-05 - 5s/epoch - 8ms/step\n",
            "Epoch 52/100\n",
            "613/613 - 6s - loss: 13.8572 - val_loss: 13.8731 - lr: 1.0000e-05 - 6s/epoch - 10ms/step\n",
            "Epoch 53/100\n",
            "613/613 - 5s - loss: 13.8533 - val_loss: 13.8752 - lr: 1.0000e-05 - 5s/epoch - 8ms/step\n",
            "Epoch 54/100\n",
            "\n",
            "Epoch 54: ReduceLROnPlateau reducing learning rate to 1.0000000656873453e-07.\n",
            "613/613 - 6s - loss: 13.8588 - val_loss: 13.8848 - lr: 1.0000e-05 - 6s/epoch - 9ms/step\n",
            "Epoch 55/100\n",
            "613/613 - 5s - loss: 13.8495 - val_loss: 13.8687 - lr: 1.0000e-07 - 5s/epoch - 8ms/step\n",
            "Epoch 56/100\n",
            "613/613 - 5s - loss: 13.8509 - val_loss: 13.8693 - lr: 1.0000e-07 - 5s/epoch - 8ms/step\n",
            "Epoch 57/100\n",
            "613/613 - 6s - loss: 13.8476 - val_loss: 13.8655 - lr: 1.0000e-07 - 6s/epoch - 9ms/step\n",
            "Epoch 58/100\n",
            "613/613 - 5s - loss: 13.8471 - val_loss: 13.8848 - lr: 1.0000e-07 - 5s/epoch - 8ms/step\n",
            "Epoch 59/100\n",
            "613/613 - 6s - loss: 13.8477 - val_loss: 13.8733 - lr: 1.0000e-07 - 6s/epoch - 10ms/step\n",
            "Epoch 60/100\n",
            "613/613 - 5s - loss: 13.8463 - val_loss: 13.8772 - lr: 1.0000e-07 - 5s/epoch - 8ms/step\n",
            "Epoch 61/100\n",
            "613/613 - 6s - loss: 13.8417 - val_loss: 13.8735 - lr: 1.0000e-07 - 6s/epoch - 9ms/step\n",
            "Epoch 62/100\n",
            "\n",
            "Epoch 62: ReduceLROnPlateau reducing learning rate to 1.000000082740371e-09.\n",
            "613/613 - 5s - loss: 13.8420 - val_loss: 13.8711 - lr: 1.0000e-07 - 5s/epoch - 8ms/step\n",
            "Epoch 63/100\n",
            "613/613 - 6s - loss: 13.8538 - val_loss: 13.8725 - lr: 1.0000e-09 - 6s/epoch - 10ms/step\n",
            "Epoch 64/100\n",
            "613/613 - 6s - loss: 13.8527 - val_loss: 13.8699 - lr: 1.0000e-09 - 6s/epoch - 9ms/step\n",
            "Epoch 65/100\n",
            "613/613 - 5s - loss: 13.8509 - val_loss: 13.8654 - lr: 1.0000e-09 - 5s/epoch - 8ms/step\n",
            "Epoch 66/100\n",
            "613/613 - 6s - loss: 13.8483 - val_loss: 13.8574 - lr: 1.0000e-09 - 6s/epoch - 9ms/step\n",
            "Epoch 67/100\n",
            "613/613 - 5s - loss: 13.8430 - val_loss: 13.8659 - lr: 1.0000e-09 - 5s/epoch - 8ms/step\n",
            "Epoch 68/100\n",
            "613/613 - 6s - loss: 13.8452 - val_loss: 13.8808 - lr: 1.0000e-09 - 6s/epoch - 9ms/step\n",
            "Epoch 69/100\n",
            "613/613 - 5s - loss: 13.8537 - val_loss: 13.8862 - lr: 1.0000e-09 - 5s/epoch - 8ms/step\n",
            "Epoch 70/100\n",
            "613/613 - 7s - loss: 13.8435 - val_loss: 13.8696 - lr: 1.0000e-09 - 7s/epoch - 11ms/step\n",
            "Epoch 71/100\n",
            "\n",
            "Epoch 71: ReduceLROnPlateau reducing learning rate to 1.000000082740371e-11.\n",
            "613/613 - 5s - loss: 13.8491 - val_loss: 13.8724 - lr: 1.0000e-09 - 5s/epoch - 8ms/step\n",
            "Epoch 72/100\n",
            "613/613 - 5s - loss: 13.8484 - val_loss: 13.8852 - lr: 1.0000e-11 - 5s/epoch - 8ms/step\n",
            "Epoch 73/100\n",
            "613/613 - 5s - loss: 13.8440 - val_loss: 13.8819 - lr: 1.0000e-11 - 5s/epoch - 9ms/step\n",
            "Epoch 74/100\n",
            "613/613 - 5s - loss: 13.8513 - val_loss: 13.8623 - lr: 1.0000e-11 - 5s/epoch - 8ms/step\n",
            "Epoch 75/100\n",
            "613/613 - 6s - loss: 13.8510 - val_loss: 13.8777 - lr: 1.0000e-11 - 6s/epoch - 9ms/step\n",
            "Epoch 76/100\n",
            "613/613 - 5s - loss: 13.8549 - val_loss: 13.8530 - lr: 1.0000e-11 - 5s/epoch - 8ms/step\n",
            "Epoch 77/100\n",
            "613/613 - 6s - loss: 13.8471 - val_loss: 13.8722 - lr: 1.0000e-11 - 6s/epoch - 10ms/step\n",
            "Epoch 78/100\n",
            "613/613 - 5s - loss: 13.8500 - val_loss: 13.8637 - lr: 1.0000e-11 - 5s/epoch - 8ms/step\n",
            "Epoch 79/100\n",
            "613/613 - 5s - loss: 13.8506 - val_loss: 13.8730 - lr: 1.0000e-11 - 5s/epoch - 8ms/step\n",
            "Epoch 80/100\n",
            "613/613 - 5s - loss: 13.8498 - val_loss: 13.8550 - lr: 1.0000e-11 - 5s/epoch - 9ms/step\n",
            "Epoch 81/100\n",
            "\n",
            "Epoch 81: ReduceLROnPlateau reducing learning rate to 1.000000082740371e-13.\n",
            "613/613 - 5s - loss: 13.8513 - val_loss: 13.8826 - lr: 1.0000e-11 - 5s/epoch - 9ms/step\n",
            "Epoch 82/100\n",
            "613/613 - 6s - loss: 13.8452 - val_loss: 13.8788 - lr: 1.0000e-13 - 6s/epoch - 9ms/step\n",
            "Epoch 83/100\n",
            "613/613 - 5s - loss: 13.8512 - val_loss: 13.8722 - lr: 1.0000e-13 - 5s/epoch - 8ms/step\n",
            "Epoch 84/100\n",
            "613/613 - 6s - loss: 13.8475 - val_loss: 13.8709 - lr: 1.0000e-13 - 6s/epoch - 10ms/step\n",
            "Epoch 85/100\n",
            "613/613 - 5s - loss: 13.8481 - val_loss: 13.8811 - lr: 1.0000e-13 - 5s/epoch - 8ms/step\n",
            "Epoch 86/100\n",
            "\n",
            "Epoch 86: ReduceLROnPlateau reducing learning rate to 1.0000000502143058e-15.\n",
            "613/613 - 5s - loss: 13.8456 - val_loss: 13.8822 - lr: 1.0000e-13 - 5s/epoch - 8ms/step\n",
            "Epoch 86: early stopping\n"
          ]
        }
      ]
    },
    {
      "cell_type": "code",
      "source": [
        "# plot training history\n",
        "plt.plot(history.history['loss'])\n",
        "plt.plot(history.history['val_loss'])\n",
        "plt.yscale('log')\n",
        "plt.title('Training History')\n",
        "plt.ylabel('loss')\n",
        "plt.xlabel('epoch')\n",
        "plt.legend(['training', 'validation'], loc='upper right')\n",
        "plt.show()"
      ],
      "metadata": {
        "colab": {
          "base_uri": "https://localhost:8080/",
          "height": 472
        },
        "id": "IyDN9AW6e9hW",
        "outputId": "5a1d8171-40bd-4498-8502-92a71414796d"
      },
      "execution_count": 20,
      "outputs": [
        {
          "output_type": "display_data",
          "data": {
            "text/plain": [
              "<Figure size 640x480 with 1 Axes>"
            ],
            "image/png": "[encoded data removed]"
          },
          "metadata": {}
        }
      ]
    },
    {
      "cell_type": "code",
      "source": [
        "labels = ['W', 'Z', 'top']\n",
        "anomaly = [jetList_W, jetList_Z, jetList_t]\n",
        "predictedQCD = model.predict(X_test)\n",
        "print(predictedQCD.shape)\n",
        "predicted_anomaly = []\n",
        "for i in range(len(labels)):\n",
        "    predicted_anomaly.append(model.predict(anomaly[i]))\n",
        "    print(predicted_anomaly[i].shape)"
      ],
      "metadata": {
        "colab": {
          "base_uri": "https://localhost:8080/"
        },
        "id": "wR4-yr3ffNj4",
        "outputId": "87551b1b-e6fb-4df5-94af-502e2b5da7dd"
      },
      "execution_count": 21,
      "outputs": [
        {
          "output_type": "stream",
          "name": "stdout",
          "text": [
            "Tensor(\"vae/encoder/latent_mu/BiasAdd:0\", shape=(None, 10), dtype=float32) Tensor(\"vae/encoder/latent_logvar/BiasAdd:0\", shape=(None, 10), dtype=float32)\n",
            "766/766 [==============================] - 2s 3ms/step\n",
            "(24509, 100, 16)\n",
            "1953/1953 [==============================] - 6s 3ms/step\n",
            "(62481, 100, 16)\n",
            "1945/1945 [==============================] - 6s 3ms/step\n",
            "(62223, 100, 16)\n",
            "1962/1962 [==============================] - 6s 3ms/step\n",
            "(62755, 100, 16)\n"
          ]
        }
      ]
    },
    {
      "cell_type": "code",
      "source": [
        "print(predictedQCD.shape)\n",
        "print(X_test.shape)\n",
        "\n",
        "#plotting PT distribution for one event\n",
        "predicted_feature = predictedQCD[1,:,6]\n",
        "actual_feature = X_test[1,:,6]\n",
        "\n",
        "print(predicted_feature.shape)\n",
        "print(actual_feature.shape)\n",
        "\n",
        "plt.figure()\n",
        "plt.hist(predicted_feature, bins=100, label='Predicted', density=True,\n",
        "         histtype='step', fill=False, linewidth=1.5)\n",
        "plt.hist(actual_feature, bins=100, label='Actual', density=True,\n",
        "         histtype='step', fill=False, linewidth=1.5)\n",
        "plt.semilogy()\n",
        "plt.xlabel(\"PT\")\n",
        "plt.ylabel(\"Events\")\n",
        "plt.grid(True)\n",
        "plt.legend(loc='upper right')\n",
        "plt.show()\n"
      ],
      "metadata": {
        "colab": {
          "base_uri": "https://localhost:8080/",
          "height": 520
        },
        "id": "vFSEIDN3qUL9",
        "outputId": "62611537-74dd-4368-8272-381b4e8f081f"
      },
      "execution_count": 22,
      "outputs": [
        {
          "output_type": "stream",
          "name": "stdout",
          "text": [
            "(24509, 100, 16)\n",
            "(24509, 100, 16)\n",
            "(100,)\n",
            "(100,)\n"
          ]
        },
        {
          "output_type": "display_data",
          "data": {
            "text/plain": [
              "<Figure size 640x480 with 1 Axes>"
            ],
            "image/png": "[encoded data removed]"
          },
          "metadata": {}
        }
      ]
    },
    {
      "cell_type": "code",
      "source": [
        "def mse(data_in, data_out):\n",
        "    mse = (data_out-data_in)*(data_out-data_in)\n",
        "    print(data_in.shape, data_out.shape, mse.shape)\n",
        "    # sum over features\n",
        "    mse = mse.sum(-1)\n",
        "    print(mse.shape)\n",
        "    mse = mse.sum(-1)\n",
        "    print(mse.shape)\n",
        "    return mse"
      ],
      "metadata": {
        "id": "SFZPCuecfnFe"
      },
      "execution_count": 23,
      "outputs": []
    },
    {
      "cell_type": "code",
      "source": [
        "lossQCD = mse(X_test, predictedQCD)\n",
        "loss_anomaly = []\n",
        "for i in range(len(labels)):\n",
        "    loss_anomaly.append(mse(anomaly[i], predicted_anomaly[i]))"
      ],
      "metadata": {
        "colab": {
          "base_uri": "https://localhost:8080/"
        },
        "id": "sJqAwcuIfoFU",
        "outputId": "42b6b560-8824-4d10-88f9-b431d7305d58"
      },
      "execution_count": null,
      "outputs": [
        {
          "output_type": "stream",
          "name": "stdout",
          "text": [
            "(24509, 100, 16) (24509, 100, 16) (24509, 100, 16)\n",
            "(24509, 100)\n",
            "(24509,)\n"
          ]
        }
      ]
    },
    {
      "cell_type": "code",
      "source": [
        "maxScore = np.max(lossQCD)\n",
        "# plot QCD\n",
        "plt.figure()\n",
        "plt.hist(lossQCD, bins=100, label='QCD', density=True, range=(0, maxScore),\n",
        "         histtype='step', fill=False, linewidth=1.5)\n",
        "plt.semilogy()\n",
        "plt.xlabel(\"AE Loss\")\n",
        "plt.ylabel(\"Probability (a.u.)\")\n",
        "plt.grid(True)\n",
        "plt.legend(loc='upper right')\n",
        "plt.show()"
      ],
      "metadata": {
        "colab": {
          "base_uri": "https://localhost:8080/",
          "height": 449
        },
        "id": "KJwU4e2nfwYc",
        "outputId": "41ff4fa4-1704-42e1-b453-7259066e81e8"
      },
      "execution_count": null,
      "outputs": [
        {
          "output_type": "display_data",
          "data": {
            "text/plain": [
              "<Figure size 640x480 with 1 Axes>"
            ],
            "image/png": "[encoded data removed]"
          },
          "metadata": {}
        }
      ]
    },
    {
      "cell_type": "code",
      "source": [
        "maxScore = np.max(lossQCD)\n",
        "# plot QCD\n",
        "plt.figure()\n",
        "plt.hist(lossQCD, bins=100, label='QCD', density=True, range=(0, maxScore),\n",
        "         histtype='step', fill=False, linewidth=1.5)\n",
        "for i in range(len(labels)):\n",
        "    plt.hist(loss_anomaly[i], bins=100, label=labels[i], density=True, range=(0, maxScore),\n",
        "            histtype='step', fill=False, linewidth=1.5)\n",
        "plt.semilogy()\n",
        "plt.xlabel(\"AE Loss\")\n",
        "plt.ylabel(\"Probability (a.u.)\")\n",
        "plt.grid(True)\n",
        "plt.legend(loc='upper right')\n",
        "plt.show()"
      ],
      "metadata": {
        "colab": {
          "base_uri": "https://localhost:8080/",
          "height": 449
        },
        "id": "Rg2VttCPgmYh",
        "outputId": "578eb6a4-1a15-4ae1-a5aa-88571a085f68"
      },
      "execution_count": null,
      "outputs": [
        {
          "output_type": "display_data",
          "data": {
            "text/plain": [
              "<Figure size 640x480 with 1 Axes>"
            ],
            "image/png": "[encoded data removed]"
          },
          "metadata": {}
        }
      ]
    },
    {
      "cell_type": "code",
      "source": [
        "from sklearn.metrics import roc_curve, auc\n",
        "plt.figure()\n",
        "targetQCD = np.zeros(lossQCD.shape[0])\n",
        "for i, label in enumerate(labels):\n",
        "        print(loss_anomaly[i].shape, targetQCD.shape)\n",
        "        trueVal = np.concatenate((np.ones(loss_anomaly[i].shape[0]),targetQCD))\n",
        "        predVal = np.concatenate((loss_anomaly[i],lossQCD))\n",
        "        print(trueVal.shape, predVal.shape)\n",
        "        fpr, tpr, threshold = roc_curve(trueVal,predVal)\n",
        "        auc1= auc(fpr, tpr)\n",
        "        plt.plot(tpr,fpr,label='%s Anomaly Detection, auc = %.1f%%'%(label,auc1*100.))\n",
        "#plt.semilogy()\n",
        "plt.xlabel(\"sig. efficiency\")\n",
        "plt.ylabel(\"bkg. mistag rate\")\n",
        "plt.grid(True)\n",
        "plt.legend(loc='upper left')\n",
        "plt.show()"
      ],
      "metadata": {
        "colab": {
          "base_uri": "https://localhost:8080/",
          "height": 556
        },
        "id": "mvLiKgjiiEsA",
        "outputId": "57b49b37-b8aa-4218-f207-44720b57359b"
      },
      "execution_count": null,
      "outputs": [
        {
          "output_type": "stream",
          "name": "stdout",
          "text": [
            "(10015,) (3982,)\n",
            "(13997,) (13997,)\n",
            "(10037,) (3982,)\n",
            "(14019,) (14019,)\n",
            "(10040,) (3982,)\n",
            "(14022,) (14022,)\n"
          ]
        },
        {
          "output_type": "display_data",
          "data": {
            "text/plain": [
              "<Figure size 640x480 with 1 Axes>"
            ],
            "image/png": "[encoded data removed]"
          },
          "metadata": {}
        }
      ]
    },
    {
      "cell_type": "code",
      "source": [],
      "metadata": {
        "id": "AMjhnb_Ff0g7"
      },
      "execution_count": null,
      "outputs": []
    }
  ]
}