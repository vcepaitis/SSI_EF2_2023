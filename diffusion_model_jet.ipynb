{
  "cells": [
    {
      "cell_type": "markdown",
      "metadata": {
        "id": "view-in-github",
        "colab_type": "text"
      },
      "source": [
        "<a href=\"https://colab.research.google.com/github/vcepaitis/SSI_EF2_2023/blob/main/diffusion_model_jet.ipynb\" target=\"_parent\"><img src=\"https://colab.research.google.com/assets/colab-badge.svg\" alt=\"Open In Colab\"/></a>"
      ]
    },
    {
      "cell_type": "markdown",
      "metadata": {
        "id": "HhIgGq3za0yh"
      },
      "source": [
        "# A Diffusion Model from Scratch in Pytorch\n",
        "\n",
        "In this notebook I want to build a very simple (as few code as possible) Diffusion Model for generating car images. I will explain all the theoretical details in the YouTube video.\n",
        "\n",
        "\n",
        "**Sources:**\n",
        "- Github implementation [Denoising Diffusion Pytorch](https://github.com/lucidrains/denoising-diffusion-pytorch)\n",
        "- Niels Rogge, Kashif Rasul, [Huggingface notebook](https://colab.research.google.com/github/huggingface/notebooks/blob/main/examples/annotated_diffusion.ipynb#scrollTo=3a159023)\n",
        "- Papers on Diffusion models ([Dhariwal, Nichol, 2021], [Ho et al., 2020] ect.)\n"
      ]
    },
    {
      "cell_type": "markdown",
      "metadata": {
        "id": "wLHSIArLcFK0"
      },
      "source": [
        "## Investigating the dataset\n",
        "\n",
        "As dataset we use the StandordCars Dataset, which consists of around 8000 images in the train set. Let's see if this is enough to get good results ;-)"
      ]
    },
    {
      "cell_type": "code",
      "execution_count": null,
      "metadata": {
        "colab": {
          "base_uri": "https://localhost:8080/"
        },
        "id": "LQnlc27k7Aiw",
        "outputId": "e90d7477-f800-4ac6-e642-fc2ce78fc1ef"
      },
      "outputs": [
        {
          "output_type": "stream",
          "name": "stdout",
          "text": [
            "  % Total    % Received % Xferd  Average Speed   Time    Time     Time  Current\n",
            "                                 Dload  Upload   Total   Spent    Left  Speed\n",
            "100  333M    0  333M    0     0  15.3M      0 --:--:--  0:00:21 --:--:-- 22.8M\n",
            "Data-MLtutorial/\n",
            "Data-MLtutorial/JetDataset/\n",
            "Data-MLtutorial/JetDataset/jetImage_7_100p_0_10000.h5\n",
            "Data-MLtutorial/JetDataset/jetImage_7_100p_10000_20000.h5\n",
            "Data-MLtutorial/JetDataset/jetImage_7_100p_30000_40000.h5\n",
            "Data-MLtutorial/JetDataset/jetImage_7_100p_40000_50000.h5\n",
            "Data-MLtutorial/JetDataset/jetImage_7_100p_50000_60000.h5\n",
            "Data-MLtutorial/JetDataset/jetImage_7_100p_60000_70000.h5\n",
            "Data-MLtutorial/JetDataset/jetImage_7_100p_70000_80000.h5\n",
            "Data-MLtutorial/JetDataset/jetImage_7_100p_80000_90000.h5\n",
            "jetImage_7_100p_0_10000.h5\tjetImage_7_100p_50000_60000.h5\n",
            "jetImage_7_100p_10000_20000.h5\tjetImage_7_100p_60000_70000.h5\n",
            "jetImage_7_100p_30000_40000.h5\tjetImage_7_100p_70000_80000.h5\n",
            "jetImage_7_100p_40000_50000.h5\tjetImage_7_100p_80000_90000.h5\n",
            "\u001b[2K     \u001b[90m━━━━━━━━━━━━━━━━━━━━━━━━━━━━━━━━━━━━━━━\u001b[0m \u001b[32m107.6/107.6 kB\u001b[0m \u001b[31m2.2 MB/s\u001b[0m eta \u001b[36m0:00:00\u001b[0m\n",
            "\u001b[?25h  Preparing metadata (setup.py) ... \u001b[?25l\u001b[?25hdone\n",
            "  Building wheel for torch-scatter (setup.py) ... \u001b[?25l\u001b[?25hcanceled\n",
            "\u001b[31mERROR: Operation cancelled by user\u001b[0m\u001b[31m\n",
            "\u001b[0mTraceback (most recent call last):\n",
            "  File \"/usr/local/lib/python3.10/dist-packages/pip/_internal/cli/base_command.py\", line 169, in exc_logging_wrapper\n",
            "    status = run_func(*args)\n",
            "  File \"/usr/local/lib/python3.10/dist-packages/pip/_internal/cli/req_command.py\", line 242, in wrapper\n",
            "    return func(self, options, args)\n",
            "  File \"/usr/local/lib/python3.10/dist-packages/pip/_internal/commands/install.py\", line 417, in run\n",
            "    _, build_failures = build(\n",
            "  File \"/usr/local/lib/python3.10/dist-packages/pip/_internal/wheel_builder.py\", line 320, in build\n",
            "    wheel_file = _build_one(\n",
            "  File \"/usr/local/lib/python3.10/dist-packages/pip/_internal/wheel_builder.py\", line 194, in _build_one\n",
            "    wheel_path = _build_one_inside_env(\n",
            "  File \"/usr/local/lib/python3.10/dist-packages/pip/_internal/wheel_builder.py\", line 241, in _build_one_inside_env\n",
            "    wheel_path = build_wheel_legacy(\n",
            "  File \"/usr/local/lib/python3.10/dist-packages/pip/_internal/operations/build/wheel_legacy.py\", line 83, in build_wheel_legacy\n",
            "    output = call_subprocess(\n",
            "  File \"/usr/local/lib/python3.10/dist-packages/pip/_internal/utils/subprocess.py\", line 166, in call_subprocess\n",
            "    line: str = proc.stdout.readline()\n",
            "  File \"/usr/lib/python3.10/codecs.py\", line 319, in decode\n",
            "    def decode(self, input, final=False):\n",
            "KeyboardInterrupt\n",
            "\n",
            "During handling of the above exception, another exception occurred:\n",
            "\n",
            "Traceback (most recent call last):\n",
            "  File \"/usr/local/bin/pip3\", line 8, in <module>\n",
            "    sys.exit(main())\n",
            "  File \"/usr/local/lib/python3.10/dist-packages/pip/_internal/cli/main.py\", line 79, in main\n",
            "    return command.main(cmd_args)\n",
            "  File \"/usr/local/lib/python3.10/dist-packages/pip/_internal/cli/base_command.py\", line 101, in main\n",
            "    return self._main(args)\n",
            "  File \"/usr/local/lib/python3.10/dist-packages/pip/_internal/cli/base_command.py\", line 223, in _main\n",
            "    return run(options, args)\n",
            "  File \"/usr/local/lib/python3.10/dist-packages/pip/_internal/cli/base_command.py\", line 206, in exc_logging_wrapper\n",
            "    logger.critical(\"Operation cancelled by user\")\n",
            "  File \"/usr/lib/python3.10/logging/__init__.py\", line 1524, in critical\n",
            "    self._log(CRITICAL, msg, args, **kwargs)\n",
            "  File \"/usr/lib/python3.10/logging/__init__.py\", line 1624, in _log\n",
            "    self.handle(record)\n",
            "  File \"/usr/lib/python3.10/logging/__init__.py\", line 1634, in handle\n",
            "    self.callHandlers(record)\n",
            "  File \"/usr/lib/python3.10/logging/__init__.py\", line 1696, in callHandlers\n",
            "    hdlr.handle(record)\n",
            "  File \"/usr/lib/python3.10/logging/__init__.py\", line 968, in handle\n",
            "    self.emit(record)\n",
            "  File \"/usr/local/lib/python3.10/dist-packages/pip/_internal/utils/logging.py\", line 177, in emit\n",
            "    self.console.print(renderable, overflow=\"ignore\", crop=False, style=style)\n",
            "  File \"/usr/local/lib/python3.10/dist-packages/pip/_vendor/rich/console.py\", line 1671, in print\n",
            "    with self:\n",
            "  File \"/usr/local/lib/python3.10/dist-packages/pip/_vendor/rich/console.py\", line 864, in __exit__\n",
            "    self._exit_buffer()\n",
            "  File \"/usr/local/lib/python3.10/dist-packages/pip/_vendor/rich/console.py\", line 822, in _exit_buffer\n",
            "    self._check_buffer()\n",
            "  File \"/usr/local/lib/python3.10/dist-packages/pip/_vendor/rich/console.py\", line 2060, in _check_buffer\n",
            "    self.file.write(text)\n",
            "KeyboardInterrupt\n",
            "^C\n",
            "\u001b[2K     \u001b[90m━━━━━━━━━━━━━━━━━━━━━━━━━━━━━━━━━━━━━━━\u001b[0m \u001b[32m209.2/209.2 kB\u001b[0m \u001b[31m3.6 MB/s\u001b[0m eta \u001b[36m0:00:00\u001b[0m\n",
            "\u001b[?25h  Preparing metadata (setup.py) ... \u001b[?25l\u001b[?25hdone\n"
          ]
        }
      ],
      "source": [
        "import torch\n",
        "import torchvision\n",
        "import matplotlib.pyplot as plt\n",
        "import numpy as np\n",
        "import h5py\n",
        "\n",
        "! curl https://cernbox.cern.ch/s/zZDKjltAcJW0RB7/download -o Data-MLtutorial.tar.gz\n",
        "! tar -xvzf Data-MLtutorial.tar.gz\n",
        "! ls Data-MLtutorial/JetDataset/\n",
        "! rm Data-MLtutorial.tar.gz\n",
        "\n",
        "!pip install -q torch-scatter -f https://data.pyg.org/whl/torch-${TORCH}.html\n",
        "!pip install -q torch-sparse -f https://data.pyg.org/whl/torch-${TORCH}.html\n",
        "!pip install -q torch_cluster -f https://data.pyg.org/whl/torch-${TORCH}.html\n",
        "!pip install -q git+https://github.com/pyg-team/pytorch_geometric.git\n",
        "\n",
        "def show_images(datset, num_samples=20, cols=4):\n",
        "    \"\"\" Plots some samples from the dataset \"\"\"\n",
        "    plt.figure(figsize=(15,15))\n",
        "    for i, img in enumerate(data):\n",
        "        if i == num_samples:\n",
        "            break\n",
        "        plt.subplot(int(num_samples/cols) + 1, cols, i + 1)\n",
        "        plt.imshow(img[0])\n",
        "\n",
        "# data = torchvision.datasets.MNIST(root=\".\", download=True)\n",
        "# show_images(data)\n",
        "\n",
        "# check if a GPU is available. Otherwise run on CPU\n",
        "device = 'cpu'\n",
        "args_cuda = torch.cuda.is_available()\n",
        "if args_cuda: device = \"cuda:0\"\n",
        "print('device : ',device)\n",
        "\n",
        "data_dir = 'Data-MLtutorial/JetDataset/'\n",
        "\n",
        "\n",
        "target = np.array([])\n",
        "jetList = np.array([])\n",
        "jetImages = np.array([])\n",
        "features_names = dict()\n",
        "datafiles = ['jetImage_7_100p_0_10000.h5',\n",
        "            #  'jetImage_7_100p_10000_20000.h5',\n",
        "            #  'jetImage_7_100p_30000_40000.h5',\n",
        "            #  'jetImage_7_100p_40000_50000.h5',\n",
        "            ]\n",
        "for i_f,fileIN in enumerate(datafiles):\n",
        "    print(\"Appending %s\" %fileIN)\n",
        "    f = h5py.File(data_dir + fileIN)\n",
        "    jetList_file = np.array(f.get(\"jetConstituentList\"))\n",
        "    target_file = np.array(f.get('jets')[0:,-6:-1])\n",
        "    jetImages_file = np.array(f.get('jetImage'))\n",
        "    jetList = np.concatenate([jetList, jetList_file], axis=0) if jetList.size else jetList_file\n",
        "    target = np.concatenate([target, target_file], axis=0) if target.size else target_file\n",
        "    jetImages = np.concatenate([jetImages, jetImages_file], axis=0) if jetImages.size else jetImages_file\n",
        "    del jetList_file, target_file, jetImages_file\n",
        "    #save particles/nodes features names and their indecies in a dictionary\n",
        "    if i_f==0:\n",
        "      for feat_idx,feat_name in enumerate(list(f['particleFeatureNames'])[:-1]):\n",
        "        features_names[feat_name.decode(\"utf-8\").replace('j1_','')] = feat_idx\n",
        "    f.close()\n",
        "\n",
        "target_plot = np.argmax(target, axis=1)\n",
        "label_names= [\"gluon\", \"quark\", \"W\", \"Z\", \"top\"]\n",
        "# features_to_consider = 'etarel,phirel,pt,e,ptrel,erel,deltaR'.split(',')\n",
        "features_to_consider = 'etarel,ptrel,phirel'.split(',')\n",
        "features_idx = [features_names[name] for name in features_to_consider]\n",
        "print(features_names)\n",
        "print(features_to_consider)\n",
        "class_to_keep = 3\n",
        "jetList = jetList[target_plot==class_to_keep][:,:10,features_idx]\n",
        "jetList[:,:,1] = jetList[:, :, 1]/np.max(jetList[:, :, 1])\n",
        "print(jetList.shape)"
      ]
    },
    {
      "cell_type": "markdown",
      "metadata": {
        "id": "JbwhSujTXucO"
      },
      "source": [
        "Later in this notebook we will do some additional modifications to this dataset, for example make the images smaller, convert them to tensors ect."
      ]
    },
    {
      "cell_type": "markdown",
      "metadata": {
        "id": "ZF7wH4cE_JKY"
      },
      "source": [
        "# Building the Diffusion Model\n"
      ]
    },
    {
      "cell_type": "markdown",
      "metadata": {
        "id": "Rj17psVw7Shg"
      },
      "source": [
        "## Step 1: The forward process = Noise scheduler\n",
        "\n",
        "\n"
      ]
    },
    {
      "cell_type": "markdown",
      "metadata": {
        "id": "hqcoJ8ZlXE1i"
      },
      "source": [
        "We first need to build the inputs for our model, which are more and more noisy images. Instead of doing this sequentially, we can use the closed form provided in the papers to calculate the image for any of the timesteps individually.\n",
        "\n",
        "**Key Takeaways**:\n",
        "- The noise-levels/variances can be pre-computed\n",
        "- There are different types of variance schedules\n",
        "- We can sample each timestep image independently (Sums of Gaussians is also Gaussian)\n",
        "- No model is needed in this forward step"
      ]
    },
    {
      "cell_type": "code",
      "execution_count": null,
      "metadata": {
        "id": "qWw50ui9IZ5q"
      },
      "outputs": [],
      "source": [
        "import torch.nn.functional as F\n",
        "\n",
        "def linear_beta_schedule(timesteps, start=0.0001, end=0.02):\n",
        "    return torch.linspace(start, end, timesteps)\n",
        "\n",
        "def get_index_from_list(vals, t, x_shape):\n",
        "    \"\"\"\n",
        "    Returns a specific index t of a passed list of values vals\n",
        "    while considering the batch dimension.\n",
        "    \"\"\"\n",
        "    batch_size = t.shape[0]\n",
        "    out = vals.gather(-1, t.cpu())\n",
        "    return out.reshape(batch_size, *((1,) * (len(x_shape) - 1))).to(t.device)\n",
        "\n",
        "def forward_diffusion_sample(x_0, t, device=\"cpu\"):\n",
        "    \"\"\"\n",
        "    Takes an image and a timestep as input and\n",
        "    returns the noisy version of it\n",
        "    \"\"\"\n",
        "    noise = torch.randn_like(x_0)\n",
        "    sqrt_alphas_cumprod_t = get_index_from_list(sqrt_alphas_cumprod, t, x_0.shape)\n",
        "    sqrt_one_minus_alphas_cumprod_t = get_index_from_list(\n",
        "        sqrt_one_minus_alphas_cumprod, t, x_0.shape\n",
        "    )\n",
        "    # mean + variance\n",
        "    return sqrt_alphas_cumprod_t.to(device) * x_0.to(device) \\\n",
        "    + sqrt_one_minus_alphas_cumprod_t.to(device) * noise.to(device), noise.to(device)\n",
        "\n",
        "\n",
        "# Define beta schedule\n",
        "T = 300\n",
        "betas = linear_beta_schedule(timesteps=T)\n",
        "\n",
        "# Pre-calculate different terms for closed form\n",
        "alphas = 1. - betas\n",
        "alphas_cumprod = torch.cumprod(alphas, axis=0)\n",
        "alphas_cumprod_prev = F.pad(alphas_cumprod[:-1], (1, 0), value=1.0)\n",
        "sqrt_recip_alphas = torch.sqrt(1.0 / alphas)\n",
        "sqrt_alphas_cumprod = torch.sqrt(alphas_cumprod)\n",
        "sqrt_one_minus_alphas_cumprod = torch.sqrt(1. - alphas_cumprod)\n",
        "posterior_variance = betas * (1. - alphas_cumprod_prev) / (1. - alphas_cumprod)"
      ]
    },
    {
      "cell_type": "markdown",
      "metadata": {
        "id": "Vt6JSKawk7_b"
      },
      "source": [
        "Let's test it on our dataset ..."
      ]
    },
    {
      "cell_type": "code",
      "execution_count": null,
      "metadata": {
        "id": "uuckjpW_k1LN"
      },
      "outputs": [],
      "source": [
        "from torchvision import transforms\n",
        "from torch.utils.data import DataLoader, Dataset\n",
        "import numpy as np\n",
        "\n",
        "IMG_SIZE = 32\n",
        "BATCH_SIZE = 128\n",
        "\n",
        "def load_transformed_dataset():\n",
        "    data_transforms = [\n",
        "        transforms.Resize((IMG_SIZE, IMG_SIZE)),\n",
        "        transforms.RandomHorizontalFlip(),\n",
        "        transforms.ToTensor(), # Scales data into [0,1]\n",
        "        transforms.Lambda(lambda t: (t * 2) - 1) # Scale between [-1, 1]\n",
        "    ]\n",
        "    data_transform = transforms.Compose(data_transforms)\n",
        "\n",
        "    train = torchvision.datasets.MNIST(root=\".\", download=True,\n",
        "                                         transform=data_transform)\n",
        "\n",
        "    test = torchvision.datasets.MNIST(root=\".\", download=True,\n",
        "                                         transform=data_transform, train=False)\n",
        "    return torch.utils.data.ConcatDataset([train, test])\n",
        "\n",
        "def show_tensor_image(image):\n",
        "    # reverse_transforms = transforms.Compose([\n",
        "    #     transforms.Lambda(lambda t: (t + 1) / 2),\n",
        "    #     transforms.Lambda(lambda t: t.permute(1, 2, 0)), # CHW to HWC\n",
        "    #     transforms.Lambda(lambda t: t * 255.),\n",
        "    #     transforms.Lambda(lambda t: t.numpy().astype(np.uint8)),\n",
        "    #     transforms.ToPILImage(),\n",
        "    # ])\n",
        "\n",
        "    # Take first image of batch\n",
        "    if len(image.shape) == 4:\n",
        "        image = image[:, :]\n",
        "    # plt.imshow(reverse_transforms(image))\n",
        "    plt.imshow(image)\n",
        "\n",
        "class CustomDataset(Dataset):\n",
        "\n",
        "    def __init__(self, data, transform=None):\n",
        "        \"\"\"Class to define a custom pytorch dataset.\n",
        "\n",
        "        Args:\n",
        "            data (_type_): _description_\n",
        "            labels (_type_): _description_\n",
        "            transform (_type_, optional): _description_. Defaults to None.\n",
        "        \"\"\"\n",
        "        self.transform = transform\n",
        "        self.data = data\n",
        "\n",
        "    def __len__(self):\n",
        "        return len(self.data)\n",
        "\n",
        "    def __getitem__(self, index):\n",
        "        sample = (self.data[index])\n",
        "        if self.transform:\n",
        "            sample = self.transform(sample)\n",
        "        return sample\n",
        "\n",
        "\n",
        "data = CustomDataset(jetList)\n",
        "dataloader = DataLoader(torch.tensor(data, dtype=torch.float32), batch_size=BATCH_SIZE, shuffle=True, drop_last=True)\n",
        "\n",
        "print(next(iter(dataloader)).shape)"
      ]
    },
    {
      "cell_type": "code",
      "execution_count": null,
      "metadata": {
        "id": "2fUPyJghdoUA"
      },
      "outputs": [],
      "source": [
        "# Simulate forward diffusion\n",
        "image = next(iter(dataloader))[0]\n",
        "\n",
        "plt.figure(figsize=(15,15))\n",
        "plt.axis('off')\n",
        "num_images = 10\n",
        "stepsize = int(T/num_images)\n",
        "\n",
        "for idx in range(0, T, stepsize):\n",
        "    t = torch.Tensor([idx]).type(torch.int64)\n",
        "    plt.subplot(1, num_images+1, int(idx/stepsize) + 1)\n",
        "    img, noise = forward_diffusion_sample(image, t)\n",
        "    show_tensor_image(img)"
      ]
    },
    {
      "cell_type": "markdown",
      "metadata": {
        "id": "buW6BaNga-XH"
      },
      "source": [
        "## Step 2: The backward process = U-Net\n",
        "\n"
      ]
    },
    {
      "cell_type": "markdown",
      "metadata": {
        "id": "iYw6u0nJXIWy"
      },
      "source": [
        "For a great introduction to UNets, have a look at this post: https://amaarora.github.io/2020/09/13/unet.html.\n",
        "\n",
        "\n",
        "**Key Takeaways**:\n",
        "- We use a simple form of a UNet for to predict the noise in the image\n",
        "- The input is a noisy image, the ouput the noise in the image\n",
        "- Because the parameters are shared accross time, we need to tell the network in which timestep we are\n",
        "- The Timestep is encoded by the transformer Sinusoidal Embedding\n",
        "- We output one single value (mean), because the variance is fixed\n"
      ]
    },
    {
      "cell_type": "code",
      "execution_count": null,
      "metadata": {
        "id": "KOYPSxPf_LL7"
      },
      "outputs": [],
      "source": [
        "from torch import nn\n",
        "import math\n",
        "\n",
        "\n",
        "class Block(nn.Module):\n",
        "    def __init__(self, in_ch, out_ch, time_emb_dim, up=False):\n",
        "        super().__init__()\n",
        "        self.time_mlp =  nn.Linear(time_emb_dim, out_ch)\n",
        "        if up:\n",
        "            self.conv1 = nn.Linear(2*in_ch, out_ch)\n",
        "            # self.transform = nn.ConvTranspose2d(out_ch, out_ch, 4, 2, 1)\n",
        "        else:\n",
        "            self.conv1 = nn.Linear(in_ch, out_ch)\n",
        "            # self.transform = nn.Conv2d(out_ch, out_ch, 4, 2, 1)\n",
        "        self.conv2 = nn.Linear(out_ch, out_ch)\n",
        "        # self.bnorm1 = nn.BatchNorm2d(out_ch)\n",
        "        # self.bnorm2 = nn.BatchNorm2d(out_ch)\n",
        "        self.relu  = nn.ReLU()\n",
        "\n",
        "    def forward(self, x, t, ):\n",
        "        # First Conv\n",
        "        h = self.relu(self.conv1(x))\n",
        "        # h = self.bnorm1(self.relu(self.conv1(x)))\n",
        "        # Time embedding\n",
        "        time_emb = self.relu(self.time_mlp(t))\n",
        "        # Extend last 2 dimensions\n",
        "        # time_emb = time_emb[(..., ) + (None, ) * 2]\n",
        "        # print(h.shape)\n",
        "        # print(time_emb.shape)\n",
        "        # Add time channel\n",
        "        h = h + time_emb\n",
        "        # Second Conv\n",
        "        h = self.relu(self.conv2(h))\n",
        "        # Down or Upsample\n",
        "        return h\n",
        "\n",
        "\n",
        "class SinusoidalPositionEmbeddings(nn.Module):\n",
        "    def __init__(self, dim):\n",
        "        super().__init__()\n",
        "        self.dim = dim\n",
        "\n",
        "    def forward(self, time):\n",
        "        device = time.device\n",
        "        half_dim = self.dim // 2\n",
        "        embeddings = math.log(10000) / (half_dim - 1)\n",
        "        embeddings = torch.exp(torch.arange(half_dim, device=device) * -embeddings)\n",
        "        embeddings = time[:, None] * embeddings[None, :]\n",
        "        embeddings = torch.cat((embeddings.sin(), embeddings.cos()), dim=-1)\n",
        "        # TODO: Double check the ordering here\n",
        "        return embeddings\n",
        "\n",
        "\n",
        "class SimpleUnet(nn.Module):\n",
        "    \"\"\"\n",
        "    A simplified variant of the Unet architecture.\n",
        "    \"\"\"\n",
        "    def __init__(self):\n",
        "        super().__init__()\n",
        "        # image_channels = 1\n",
        "        num_particles = 10\n",
        "        num_features = 3\n",
        "        first_embedding_dim = 120\n",
        "        down_channels = (120, 32, 16) # , 1024\n",
        "        up_channels = (16, 32, 120) # 1024,\n",
        "        out_dim = 30\n",
        "        time_emb_dim = 32\n",
        "\n",
        "        # Time embedding\n",
        "        self.time_mlp = nn.Sequential(\n",
        "                SinusoidalPositionEmbeddings(time_emb_dim),\n",
        "                nn.Linear(time_emb_dim, time_emb_dim),\n",
        "                nn.ReLU()\n",
        "            )\n",
        "\n",
        "        # Initial projection\n",
        "        self.ll0 = nn.Linear(num_particles*num_features, first_embedding_dim) # nn.Conv2d(image_channels, down_channels[0], 3, padding=1)\n",
        "\n",
        "        # Downsample\n",
        "        self.downs = nn.ModuleList([Block(down_channels[i], down_channels[i+1], \\\n",
        "                                    time_emb_dim) \\\n",
        "                    for i in range(len(down_channels)-1)])\n",
        "        # Upsample\n",
        "        self.ups = nn.ModuleList([Block(up_channels[i], up_channels[i+1], \\\n",
        "                                        time_emb_dim, up=True) \\\n",
        "                    for i in range(len(up_channels)-1)])\n",
        "\n",
        "        # Edit: Corrected a bug found by Jakub C (see YouTube comment)\n",
        "        self.output = nn.Linear(up_channels[-1], out_dim, 1)\n",
        "\n",
        "    def forward(self, x, timestep):\n",
        "        # Embedd time\n",
        "        t = self.time_mlp(timestep)\n",
        "        # Initial conv\n",
        "        x = self.ll0(x)\n",
        "        # Unet\n",
        "        residual_inputs = []\n",
        "        for down in self.downs:\n",
        "            x = down(x, t)\n",
        "            residual_inputs.append(x)\n",
        "        for up in self.ups:\n",
        "            residual_x = residual_inputs.pop()\n",
        "            # Add residual x as additional channels\n",
        "            x = torch.cat((x, residual_x), dim=1)\n",
        "            x = up(x, t)\n",
        "        return self.output(x)\n",
        "\n",
        "\n",
        "\n",
        "model = SimpleUnet()\n",
        "print(\"Num params: \", sum(p.numel() for p in model.parameters()))\n",
        "print(next(iter(dataloader)).view(-1, 30).shape)\n",
        "model(next(iter(dataloader)).view(-1, 30), torch.full((1,), 1, device=device, dtype=torch.long)).shape"
      ]
    },
    {
      "cell_type": "markdown",
      "metadata": {
        "id": "6tNzccxqWilM"
      },
      "source": [
        "\n",
        "**Further improvements that can be implemented:**\n",
        "- Residual connections\n",
        "- Different activation functions like SiLU, GWLU, ...\n",
        "- BatchNormalization\n",
        "- GroupNormalization\n",
        "- Attention\n",
        "- ..."
      ]
    },
    {
      "cell_type": "markdown",
      "metadata": {
        "id": "8B9GlZrotBXy"
      },
      "source": [
        "## Step 3: The loss\n",
        "\n"
      ]
    },
    {
      "cell_type": "markdown",
      "metadata": {
        "id": "ph05t8MxXMoY"
      },
      "source": [
        "**Key Takeaways:**\n",
        "- After some maths we end up with a very simple loss function\n",
        "- There are other possible choices like L2 loss ect.\n"
      ]
    },
    {
      "cell_type": "code",
      "execution_count": null,
      "metadata": {
        "id": "Ed12NNXPtDon"
      },
      "outputs": [],
      "source": [
        "def get_loss(model, x_0, t):\n",
        "    x_noisy, noise = forward_diffusion_sample(x_0, t, device)\n",
        "    noise_pred = model(x_noisy, t)\n",
        "    return F.l1_loss(noise, noise_pred)"
      ]
    },
    {
      "cell_type": "markdown",
      "metadata": {
        "id": "i7AZkYjKgQTm"
      },
      "source": [
        "## Sampling\n",
        "- Without adding @torch.no_grad() we quickly run out of memory, because pytorch tacks all the previous images for gradient calculation\n",
        "- Because we pre-calculated the noise variances for the forward pass, we also have to use them when we sequentially perform the backward process"
      ]
    },
    {
      "cell_type": "code",
      "execution_count": null,
      "metadata": {
        "id": "k13hj2mciCHA"
      },
      "outputs": [],
      "source": [
        "@torch.no_grad()\n",
        "def sample_timestep(x, t):\n",
        "    \"\"\"\n",
        "    Calls the model to predict the noise in the image and returns\n",
        "    the denoised image.\n",
        "    Applies noise to this image, if we are not in the last step yet.\n",
        "    \"\"\"\n",
        "    betas_t = get_index_from_list(betas, t, x.shape)\n",
        "    sqrt_one_minus_alphas_cumprod_t = get_index_from_list(\n",
        "        sqrt_one_minus_alphas_cumprod, t, x.shape\n",
        "    )\n",
        "    sqrt_recip_alphas_t = get_index_from_list(sqrt_recip_alphas, t, x.shape)\n",
        "\n",
        "    # Call model (current image - noise prediction)\n",
        "    model_mean = sqrt_recip_alphas_t * (\n",
        "        x - betas_t * model(x, t) / sqrt_one_minus_alphas_cumprod_t\n",
        "    )\n",
        "    posterior_variance_t = get_index_from_list(posterior_variance, t, x.shape)\n",
        "\n",
        "    if t == 0:\n",
        "        # As pointed out by Luis Pereira (see YouTube comment)\n",
        "        # The t's are offset from the t's in the paper\n",
        "        return model_mean\n",
        "    else:\n",
        "        noise = torch.randn_like(x)\n",
        "        return model_mean + torch.sqrt(posterior_variance_t) * noise\n",
        "\n",
        "@torch.no_grad()\n",
        "def sample_plot_image():\n",
        "    # Sample noise\n",
        "    # img_size = IMG_SIZE\n",
        "    img = torch.randn((10, 3), device=device)\n",
        "    plt.figure(figsize=(15,15))\n",
        "    plt.axis('off')\n",
        "    num_images = 10\n",
        "    stepsize = int(T/num_images)\n",
        "\n",
        "    for i in range(0,T)[::-1]:\n",
        "        t = torch.full((1,), i, device=device, dtype=torch.long)\n",
        "        img = sample_timestep(img, t)\n",
        "        # Edit: This is to maintain the natural range of the distribution\n",
        "        img = torch.clamp(img.view(-1,30), -1.0, 1.0)\n",
        "        if i % stepsize == 0:\n",
        "            plt.subplot(1, num_images, int(i/stepsize)+1)\n",
        "            show_tensor_image(img.detach().cpu())\n",
        "    plt.show()"
      ]
    },
    {
      "cell_type": "markdown",
      "metadata": {
        "id": "BIc33L9-uK4q"
      },
      "source": [
        "## Training"
      ]
    },
    {
      "cell_type": "code",
      "execution_count": null,
      "metadata": {
        "id": "bpN_LKYwuLx0"
      },
      "outputs": [],
      "source": [
        "from torch.optim import Adam\n",
        "\n",
        "device = \"cuda\" if torch.cuda.is_available() else \"cpu\"\n",
        "model.to(device)\n",
        "optimizer = Adam(model.parameters(), lr=0.001)\n",
        "epochs = 100 # Try more!\n",
        "\n",
        "for epoch in range(epochs):\n",
        "    for step, batch in enumerate(dataloader):\n",
        "      optimizer.zero_grad()\n",
        "\n",
        "      t = torch.randint(0, T, (BATCH_SIZE,), device=device).long().to(device)\n",
        "      loss = get_loss(model, batch.view(-1, 30).to(device), t)\n",
        "      loss.backward()\n",
        "      optimizer.step()\n",
        "\n",
        "      if epoch % 10 == 0 and step == 0:\n",
        "        print(f\"Epoch {epoch} | step {step:03d} Loss: {loss.item()} \")\n",
        "      #   sample_plot_image()"
      ]
    }
  ],
  "metadata": {
    "accelerator": "TPU",
    "colab": {
      "collapsed_sections": [
        "wLHSIArLcFK0",
        "Rj17psVw7Shg",
        "buW6BaNga-XH",
        "8B9GlZrotBXy",
        "i7AZkYjKgQTm",
        "BIc33L9-uK4q"
      ],
      "provenance": [],
      "include_colab_link": true
    },
    "kernelspec": {
      "display_name": "Python 3",
      "name": "python3"
    },
    "language_info": {
      "codemirror_mode": {
        "name": "ipython",
        "version": 3
      },
      "file_extension": ".py",
      "mimetype": "text/x-python",
      "name": "python",
      "nbconvert_exporter": "python",
      "pygments_lexer": "ipython3",
      "version": "3.11.4"
    }
  },
  "nbformat": 4,
  "nbformat_minor": 0
}